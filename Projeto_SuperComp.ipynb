{
  "nbformat": 4,
  "nbformat_minor": 0,
  "metadata": {
    "colab": {
      "provenance": []
    },
    "kernelspec": {
      "name": "python3",
      "display_name": "Python 3"
    },
    "language_info": {
      "name": "python"
    }
  },
  "cells": [
    {
      "cell_type": "markdown",
      "source": [
        "# Projeto SuperComputação 2023.2\n",
        "\n",
        "## Análise de Redes Sociais: encontrando a clique máxima em um grafo.\n",
        "\n",
        "![Exemplo Clique](https://upload.wikimedia.org/wikipedia/commons/thumb/d/d0/VR_complex.svg/1200px-VR_complex.svg.png)\n",
        "\n",
        "\n",
        "A análise de redes sociais (ARS) é uma abordagem oriunda de áreas tais como Sociologia, Psicologia Social e Antropologia. Tal abordagem estuda as ligações relacionais (*relational tie*) entre atores sociais. Os atores na ARS podem ser tanto pessoas e empresas, analisadas como unidades individuais, quanto unidades sociais coletivas como, por exemplo, departamentos dentro de uma organização, agências de serviço público em uma cidade, estados-nações de um continente, dentre outras. A ARS difere fundamentalmente de outros estudos pelo fato de que sua ênfase não é nos atributos (características) dos atores, mas nas ligações entre eles.\n",
        "\n",
        "\n",
        "A idéia de uma clique em um grafo é relativamente simples. No nível mais geral, uma clique é um subconjunto de uma rede no qual os atores são mais próximos entre si do que com outros membros da rede. Em termo de laços de amizade, por exemplo, não é incomum encontrar grupos humanos que formam cliques baseando-se em idade, gênero, raça, etnia, religião, ideologia, e muitas coisas coisas. Uma clique é, portanto, um conjunto de vértices em um grafo em que cada par de vértices está diretamente conectado por uma aresta.\n",
        "\n",
        "Encontrar a clique máxima em um grafo é uma tarefa computacionalmente desafiadora devido à natureza combinatória do problema.  A dificuldade computacional surge da necessidade de explorar todas as combinações possíveis de vértices para identificar a maior clique, o que se torna exponencial em relação ao número de vértices. Isso resulta em uma complexidade computacional alta, mesmo para grafos moderadamente grandes.\n",
        "\n",
        "A importância de estudar cliques está notavelmente presente na análise de redes sociais, onde as cliques representam grupos coesos de indivíduos que compartilham interesses, amizades ou conexões em comum. A identificação de cliques ajuda a entender a estrutura de uma rede social, identificar influenciadores e grupos de afinidade, além de auxiliar na detecção de comunidades e na análise de dinâmicas sociais.\n",
        "\n",
        "As cliques são importantes, pois além de desenvolver em seus membros comportamentos homogêneos, elas têm, por definição, grande proximidade, aumentando a velocidade das trocas. Assim, informações dirigidas a uma clique são rapidamente absorvidas pelos seus membros, que tendem a percebê-las de forma semelhante. Isso é importante, por exemplo, em estratégias de segmentação.\n",
        "\n",
        "\n",
        "Portanto, a resolução eficiente do problema da clique máxima tem aplicações valiosas em áreas que vão desde a ciência da computação até a análise de dados em redes sociais.\n",
        "\n",
        "## SUA TAREFA: Encontrar a clique máxima em um grafo.\n",
        "\n",
        "Seu programa deve receber um grafo a partir de um input de texto (abaixo você vai encontrar o código gerador do input). A partir da leitura do arquivo, você deve armazenar o grafo computacionalmente (matriz de adjacência, por exemplo). E com isso, você deverá executar três implementações:\n",
        "\n",
        "1. **Abordagem Exaustiva**\n",
        "\n",
        "A exaustão é uma abordagem que seleciona iterativamente os vértices para formar um clique, geralmente começando com um vértice e adicionando outros que tenham o maior número de vizinhos já na clique. Aqui está um pseudo-código simplificado para detectar cliques em um grafo usando essa abordagem. ATENÇÃO: esse pseudo-codigo **não** é a solução completa dessa abordagem. Você pode se inspirar nele para compreender como resolver o problema, mas é parte de sua tarefa desenvolver a solução.\n",
        "\n",
        "```\n",
        "Função EncontrarCliqueMaxima(grafo, numVertices)\n",
        "    cliqueMaxima = ListaVazia()\n",
        "    candidatos = ListaDeNós()  # Inicialmente, todos os nós são candidatos\n",
        "\n",
        "    Para cada i de 0 até numVertices - 1 Faça\n",
        "        Adicione i à lista de candidatos\n",
        "\n",
        "    Enquanto candidatos não estiver vazia Faça\n",
        "        v = Último elemento de candidatos\n",
        "        Remova o último elemento de candidatos\n",
        "\n",
        "        podeAdicionar = Verdadeiro\n",
        "\n",
        "        Para cada u em cliqueMaxima Faça\n",
        "            Se grafo[u][v] == 0 Então\n",
        "                podeAdicionar = Falso\n",
        "                Pare o loop\n",
        "            Fim Se\n",
        "        Fim Para\n",
        "\n",
        "        Se podeAdicionar for Verdadeiro Então\n",
        "            Adicione v a cliqueMaxima\n",
        "            novosCandidatos = ListaDeNós()\n",
        "\n",
        "            Para cada u em candidatos Faça\n",
        "                adjacenteATodos = Verdadeiro\n",
        "\n",
        "                Para cada c em cliqueMaxima Faça\n",
        "                    Se grafo[u][c] == 0 Então\n",
        "                        adjacenteATodos = Falso\n",
        "                        Pare o loop\n",
        "                    Fim Se\n",
        "                Fim Para\n",
        "\n",
        "                Se adjacenteATodos for Verdadeiro Então\n",
        "                    Adicione u a novosCandidatos\n",
        "                Fim Se\n",
        "            Fim Para\n",
        "\n",
        "            candidatos = novosCandidatos\n",
        "        Fim Se\n",
        "    Fim Enquanto\n",
        "\n",
        "    Retorne cliqueMaxima\n",
        "Fim Função\n",
        "\n",
        "\n",
        "```\n",
        "\n",
        "Implemente o código em C++.\n",
        "\n",
        "Aproveite para pensar se é possível adotar alguma heurística. Por exemplo, ordenar os nós em função do grau de adjacência, ajuda?\n",
        "\n",
        "\n",
        "**Sua segunda tarefa**: Até qual tamanho de problema você conseguiu obter um resultado em tempo hábil (aprox. 15 min)? Você deve apresentar um pseudo-codigo de uma heurística para otimizar essa tarefa exaustiva. É possível implementar alguma poda? Algum critério que evite calcular um nó, dado que você já descobriu uma clique maior?\n",
        "\n"
      ],
      "metadata": {
        "id": "kZ4RO1BG3BOA"
      }
    },
    {
      "cell_type": "code",
      "source": [
        "import networkx as nx\n",
        "import matplotlib.pyplot as plt\n",
        "import random\n",
        "\n",
        "def write_graph(nome_arquivo, num_vertices):\n",
        "  # Parâmetros\n",
        "  probabilidade_conexao = 0.7  # Probabilidade de haver uma aresta entre dois vértices (ajuste conforme necessário)\n",
        "\n",
        "  # Crie um grafo aleatório densamente conectado\n",
        "  grafo = nx.fast_gnp_random_graph(num_vertices, probabilidade_conexao)\n",
        "\n",
        "  # Abra o arquivo para escrita\n",
        "  with open(nome_arquivo, 'w') as arquivo:\n",
        "      # Escreva a quantidade de vértices e número de arestas na primeira linha\n",
        "      arquivo.write(f\"{num_vertices} {grafo.number_of_edges()}\\n\")\n",
        "\n",
        "      # Escreva as arestas no formato de lista de adjacência\n",
        "      for aresta in grafo.edges():\n",
        "          arquivo.write(f\"{aresta[0]+1} {aresta[1]+1}\\n\")  # +1 para ajustar os índices (começando em 1)\n",
        "\n",
        "  print(f\"Grafo densamente conectado gerado e salvo em '{nome_arquivo}'.\")\n",
        "\n",
        "  # Dsenha Grafo\n",
        "  pos = nx.spring_layout(grafo)\n",
        "  nx.draw(grafo, pos, with_labels=True, font_weight='bold', node_size=700, node_color='skyblue',\n",
        "          font_color='black', font_size=10, edge_color='gray', linewidths=1, alpha=0.7)\n",
        "\n",
        "  plt.title(\"Grafo com \" + str(num_vertices) + \" vertices\")\n",
        "  plt.show()\n",
        "  plt.savefig('nome_arquivo' + str(num_vertices) +  '.png')\n",
        "\n",
        "\n",
        "num_vertices = 4\n",
        "write_graph(\"grafo.txt\", num_vertices)"
      ],
      "metadata": {
        "colab": {
          "base_uri": "https://localhost:8080/",
          "height": 576
        },
        "id": "lOOMdeYRLLmP",
        "outputId": "7e7b9ebf-7ec8-4682-d341-f1796cb29167"
      },
      "execution_count": 58,
      "outputs": [
        {
          "output_type": "stream",
          "name": "stdout",
          "text": [
            "Grafo densamente conectado gerado e salvo em 'grafo.txt'.\n"
          ]
        },
        {
          "output_type": "display_data",
          "data": {
            "text/plain": [
              "<Figure size 640x480 with 1 Axes>"
            ],
            "image/png": "[encoded data removed]"
          },
          "metadata": {}
        },
        {
          "output_type": "display_data",
          "data": {
            "text/plain": [
              "<Figure size 640x480 with 0 Axes>"
            ]
          },
          "metadata": {}
        }
      ]
    },
    {
      "cell_type": "code",
      "source": [
        "%%writefile busca_exaustiva_simples.cpp\n",
        "\n",
        "#include<iostream>\n",
        "#include<vector>\n",
        "#include <fstream>\n",
        "#include<algorithm>\n",
        "\n",
        "using namespace std;\n",
        "\n",
        "// ---------------------------------------------------------------------------\n",
        "// ----------------------------- LER GRAFO -----------------------------------\n",
        "// ---------------------------------------------------------------------------\n",
        "\n",
        "vector<vector<int>> LerGrafo(string& nomeArquivo, int& numVertices) {\n",
        "    ifstream arquivo(nomeArquivo);\n",
        "    int numArestas;\n",
        "    arquivo >> numVertices >> numArestas;\n",
        "\n",
        "    vector<vector<int>> grafo(numVertices, vector<int>(numVertices, 0));\n",
        "\n",
        "    for (int i = 0; i < numArestas; ++i) {\n",
        "        int u, v;\n",
        "        arquivo >> u >> v;\n",
        "        grafo[u - 1][v - 1] = 1;\n",
        "        grafo[v - 1][u - 1] = 1;  // O grafo é não direcionado\n",
        "    }\n",
        "\n",
        "    arquivo.close();\n",
        "    return grafo;\n",
        "}\n",
        "\n",
        "\n",
        "// ---------------------------------------------------------------------------\n",
        "// -------------------------- CLIQUE MÁXIMA ----------------------------------\n",
        "// ---------------------------------------------------------------------------\n",
        "\n",
        "vector<int> EncontrarCliqueMaxima(vector<vector<int>> grafo, int numVertices) {\n",
        "    vector<int> cliqueMaxima;\n",
        "    vector<int> candidatos;\n",
        "\n",
        "    // No inicio todos os nós são candidatos\n",
        "    for (int i = 0; i < numVertices; ++i) {\n",
        "        candidatos.push_back(i);\n",
        "    }\n",
        "\n",
        "    // Enquanto lista de candidados não vazia\n",
        "    while(!candidatos.empty()){\n",
        "        int v = candidatos.back();\n",
        "        candidatos.pop_back();\n",
        "\n",
        "\n",
        "        bool podeAdicionar = true;\n",
        "        for (int u : cliqueMaxima) {\n",
        "            if (grafo[u][v] == 0) {\n",
        "                podeAdicionar = false;\n",
        "                break;\n",
        "            }\n",
        "        }\n",
        "\n",
        "        if (podeAdicionar) {\n",
        "            cliqueMaxima.push_back(v);\n",
        "            vector<int> novosCandidatos;\n",
        "\n",
        "            for (int u : candidatos) {\n",
        "                bool adjacenteATodos = true;\n",
        "\n",
        "                for (int c : cliqueMaxima) {\n",
        "                    if (grafo[u][c] == 0) {\n",
        "                        adjacenteATodos = false;\n",
        "                        break;\n",
        "                    }\n",
        "                }\n",
        "\n",
        "                if (adjacenteATodos) {\n",
        "                    novosCandidatos.push_back(u);\n",
        "                }\n",
        "            }\n",
        "\n",
        "            candidatos = novosCandidatos;\n",
        "        }\n",
        "   }\n",
        "\n",
        "   return cliqueMaxima;\n",
        "}\n",
        "\n",
        "\n",
        "// ---------------------------------------------------------------------------\n",
        "// ------------------------------- MAIN --------------------------------------\n",
        "// ---------------------------------------------------------------------------\n",
        "\n",
        "int main() {\n",
        "\n",
        "    string nomeArquivo = \"grafo.txt\";\n",
        "    int numVertices = 4;\n",
        "\n",
        "    vector<vector<int>> grafo = LerGrafo(nomeArquivo, numVertices);\n",
        "    vector<int> cliqueMaxima =  EncontrarCliqueMaxima(grafo,numVertices);\n",
        "\n",
        "    // Printa CliqueMaximo Encontrado\n",
        "    cout << \" ===== [Busca Exaustiva Local] ===== \\n\";\n",
        "    cout << \"\\n > Clique Máxima encontrada : [\";\n",
        "    for (auto &el : cliqueMaxima) {\n",
        "      cout << el << \" \";\n",
        "    }\n",
        "    cout << \"] \\n\";\n",
        "\n",
        "    cout << \"\\n > Tamanho : \" << cliqueMaxima.size();\n",
        "\n",
        "    return 0;\n",
        "}\n",
        "\n"
      ],
      "metadata": {
        "colab": {
          "base_uri": "https://localhost:8080/"
        },
        "id": "7Z81AxOoLLv2",
        "outputId": "235822a6-1f98-44a8-8ed3-5e0038734148"
      },
      "execution_count": 54,
      "outputs": [
        {
          "output_type": "stream",
          "name": "stdout",
          "text": [
            "Overwriting busca_exaustiva_simples.cpp\n"
          ]
        }
      ]
    },
    {
      "cell_type": "code",
      "source": [
        "!g++ -O3 -Wall busca_exaustiva_simples.cpp -o busca_exaustiva_simples"
      ],
      "metadata": {
        "id": "Gx6zhNMqLL7l"
      },
      "execution_count": 50,
      "outputs": []
    },
    {
      "cell_type": "code",
      "source": [
        "!./busca_exaustiva_simples"
      ],
      "metadata": {
        "colab": {
          "base_uri": "https://localhost:8080/"
        },
        "id": "EnaBruOaN5F6",
        "outputId": "b11451dd-bc03-4aae-8ca1-4c608122a251"
      },
      "execution_count": 51,
      "outputs": [
        {
          "output_type": "stream",
          "name": "stdout",
          "text": [
            " ===== [Busca Exaustiva Local] ===== \n",
            "\n",
            " > Clique Máxima encontrada : [3 2 1 ] \n",
            "\n",
            " > Tamanho : 3"
          ]
        }
      ]
    },
    {
      "cell_type": "code",
      "source": [
        "import networkx as nx\n",
        "\n",
        "def cliqueMaximo_Resposta(nome_arquivo):\n",
        "  # Abrir o arquivo e pular a primeira linha\n",
        "  with open(nome_arquivo, 'r') as arquivo:\n",
        "      next(arquivo)  # Pula a primeira linha\n",
        "\n",
        "      # Lê o grafo a partir das linhas restantes\n",
        "      G = nx.parse_adjlist(arquivo)\n",
        "\n",
        "  # Encontrar todas as cliques maximais\n",
        "  cliques_maximais = list(nx.find_cliques(G))\n",
        "\n",
        "  # Encontrar a clique máxima (a maior)\n",
        "  clique_maxima = max(cliques_maximais, key=len)\n",
        "\n",
        "  print(\" ===== [ RESPOSTAS ] ===== \")\n",
        "  print(\"\\n > Cliques maximais encontradas:\")\n",
        "  for clique in cliques_maximais:\n",
        "      print(clique)\n",
        "\n",
        "  print(\"\\n > Clique máxima encontrada:\", clique_maxima)\n",
        "  print(\"\\n > Clique máxima tamanho:\", len(clique_maxima))\n",
        "\n",
        "cliqueMaximo_Resposta(\"grafo.txt\")"
      ],
      "metadata": {
        "colab": {
          "base_uri": "https://localhost:8080/"
        },
        "id": "ErdAeeyAkdD-",
        "outputId": "1821b432-804c-478f-ba31-3b305c05c241"
      },
      "execution_count": 45,
      "outputs": [
        {
          "output_type": "stream",
          "name": "stdout",
          "text": [
            " ===== [ RESPOSTAS ] ===== \n",
            "\n",
            " > Cliques maximais encontradas:\n",
            "['4', '3', '2']\n",
            "['4', '1']\n",
            "\n",
            " > Clique máxima encontrada: ['4', '3', '2']\n",
            "\n",
            " > Clique máxima tamanho: 3\n"
          ]
        }
      ]
    },
    {
      "cell_type": "markdown",
      "source": [
        "\n",
        "\n",
        "\n",
        "2. **Implementação com Threads OpenMP**\n",
        "\n",
        "A implementação de uma solução com OpenMP para encontrar cliques em um grafo usando a heurística gulosa envolve a paralelização das iterações do algoritmo em diferentes threads. O OpenMP simplifica a criação de threads e a coordenação entre elas.\n",
        "\n",
        "\n",
        "Nessa implementação você deve apresentar o código-fonte modificado, justificar a alteração feita, e mostrar também o speed up obtido. Faça uso de gráficos e tabelas para mostrar que sua implementação em openMP valeu a pena. Observe que mesmo assim você não vai conseguir resolver exaustivamente o problema, mas o tamanho do grafo será maior, e o tempo de processamento para um mesmo tamanho deve ser preferencialmente menor.\n",
        "\n",
        "\n",
        "3. **Paralelização e Distribuição do Processamento com MPI**\n",
        "\n",
        "Nesta implementação, você deve dividir o problema em várias partes e distribuí-las para diferentes processadores usando a biblioteca MPI (*Message Passing Interface*). Cada processador será responsável por encontrar cliques em uma parte do grafo, e os resultados serão combinados no final para encontrar todas as cliques no grafo.\n",
        "\n"
      ],
      "metadata": {
        "id": "33B_RGzF5QZC"
      }
    },
    {
      "cell_type": "markdown",
      "source": [
        "## Como apresentar seus resultados\n",
        "\n",
        "\n",
        "Você deverá focar em comparar suas implementações em relação ao speedup. Aumente o tamanho do grafo e das arestas, e busque determinar a clique máxima."
      ],
      "metadata": {
        "id": "CXne1xl26RDK"
      }
    },
    {
      "cell_type": "markdown",
      "source": [
        "## Códigos-fonte de apoio\n",
        "\n",
        "\n",
        "1. Código-fonte de geração do grafo (em Python)\n",
        "\n",
        "\n",
        "```python\n",
        "\n",
        "import networkx as nx\n",
        "import random\n",
        "\n",
        "# Parâmetros\n",
        "num_vertices = 1000  # Número de vértices no grafo\n",
        "probabilidade_conexao = 0.7  # Probabilidade de haver uma aresta entre dois vértices (ajuste conforme necessário)\n",
        "\n",
        "# Crie um grafo aleatório densamente conectado\n",
        "grafo = nx.fast_gnp_random_graph(num_vertices, probabilidade_conexao)\n",
        "\n",
        "# Nome do arquivo de saída\n",
        "nome_arquivo = \"grafo.txt\"\n",
        "\n",
        "# Abra o arquivo para escrita\n",
        "with open(nome_arquivo, 'w') as arquivo:\n",
        "    # Escreva a quantidade de vértices e número de arestas na primeira linha\n",
        "    arquivo.write(f\"{num_vertices} {grafo.number_of_edges()}\\n\")\n",
        "\n",
        "    # Escreva as arestas no formato de lista de adjacência\n",
        "    for aresta in grafo.edges():\n",
        "        arquivo.write(f\"{aresta[0]+1} {aresta[1]+1}\\n\")  # +1 para ajustar os índices (começando em 1)\n",
        "\n",
        "print(f\"Grafo densamente conectado gerado e salvo em '{nome_arquivo}'.\")\n",
        "\n",
        "```\n",
        "\n",
        "\n",
        "2. Trecho de código-fonte para leitura do grafo e armazenamento como matriz de adjacência\n",
        "\n",
        "```cpp\n",
        "// Função para ler o grafo a partir do arquivo de entrada\n",
        "std::vector<std::vector<int>> LerGrafo(const std::string& nomeArquivo, int& numVertices) {\n",
        "    std::ifstream arquivo(nomeArquivo);\n",
        "    int numArestas;\n",
        "    arquivo >> numVertices >> numArestas;\n",
        "\n",
        "    std::vector<std::vector<int>> grafo(numVertices, std::vector<int>(numVertices, 0));\n",
        "\n",
        "    for (int i = 0; i < numArestas; ++i) {\n",
        "        int u, v;\n",
        "        arquivo >> u >> v;\n",
        "        grafo[u - 1][v - 1] = 1;\n",
        "        grafo[v - 1][u - 1] = 1;  // O grafo é não direcionado\n",
        "    }\n",
        "\n",
        "    arquivo.close();\n",
        "\n",
        "    return grafo;\n",
        "}\n",
        "```\n",
        "\n",
        "3. Verificar (em Python) se seu programa encontrou a clique correta. Para isso, use a implementação abaixo, ela já está adaptada para ler nosso arquivo de input, ignorando a primeira linha.\n",
        "\n",
        "\n",
        "```python\n",
        "import networkx as nx\n",
        "\n",
        "# Nome do arquivo de entrada\n",
        "nome_arquivo = \"seu_arquivo.txt\"\n",
        "\n",
        "# Abrir o arquivo e pular a primeira linha\n",
        "with open(nome_arquivo, 'r') as arquivo:\n",
        "    next(arquivo)  # Pula a primeira linha\n",
        "\n",
        "    # Lê o grafo a partir das linhas restantes\n",
        "    G = nx.parse_adjlist(arquivo)\n",
        "\n",
        "# Encontrar todas as cliques maximais\n",
        "cliques_maximais = list(nx.find_cliques(G))\n",
        "\n",
        "# Encontrar a clique máxima (a maior)\n",
        "clique_maxima = max(cliques_maximais, key=len)\n",
        "\n",
        "print(\"Cliques maximais encontradas:\")\n",
        "for clique in cliques_maximais:\n",
        "    print(clique)\n",
        "\n",
        "print(\"Clique máxima encontrada:\", clique_maxima)\n",
        "\n",
        "\n",
        "```\n"
      ],
      "metadata": {
        "id": "hjisruVE5uUE"
      }
    },
    {
      "cell_type": "markdown",
      "source": [
        "## Critérios de avaliação\n",
        "\n",
        "A correção do projeto levará em conta:\n",
        "\n",
        "+ [Até 2 pontos] **Organização geral**\n",
        "  - Organização do código fonte e/ou do notebook que centraliza seus códigos. Se a entrega for via jupyter notebook, ele deve conter células markdown que guiem a apreciação do trabalho. Caso seu código esteja organizado em arquivos \".cpp\", \".py\", etc, submeta também um relatório em PDF descrevendo seu trabalho;\n",
        "\n",
        "+ [Até 5 pontos] **Implementações**\n",
        "  - Sua entrega deve conter ao menos 3 implementações (uma para cada solução: exaustiva, OpenMP e MPI). Soluções extras nestas vertentes são encorajadas e serão valorizadas;\n",
        "  - A parte de MPI deve ser obrigatoriamente executada no cluster montado em sala de aula. Portanto, submeta também os arquivos de configuração dos executáveis em batch;\n",
        "  - Esperamos códigos seguindo as boas práticas de implementação e devidamente comentados;\n",
        "\n",
        "+ [Até 3 pontos] **Avaliação de resultados**\n",
        "  - Comparações das abordagens com tamanhos diferentes de grafos;\n",
        "  - Clareza na comunicação dos resultados. Ex: gráficos e/ou pequenos textos que descrevem os resultados obtidos;\n",
        "  - Justificativas: é esperado que a execução paralela seja mais rápida que a sequencial, assim como uma heurística seja mais rápida que a abordagem exaustiva. Caso seus resultados diferem do esperado, argumente potenciais causas;\n",
        "\n",
        "+ [Até 1 ponto] **Extras**\n",
        "  - A rubrica não cita implementação em GPU. Caso você opte por fazer, daremos até 1 ponto extra na nota do trabalho pelo esforço;\n",
        "\n",
        "\n"
      ],
      "metadata": {
        "id": "SNeH26yqLAYw"
      }
    },
    {
      "cell_type": "code",
      "source": [],
      "metadata": {
        "id": "2QuxS7IfDxr_"
      },
      "execution_count": null,
      "outputs": []
    }
  ]
}