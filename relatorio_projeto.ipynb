{
  "cells": [
    {
      "cell_type": "markdown",
      "metadata": {
        "id": "kZ4RO1BG3BOA"
      },
      "source": [
        "### Projeto SuperComputação 2023.2\n",
        "\n",
        "### Análise de Redes Sociais: encontrando a clique máxima em um grafo.\n",
        "\n",
        "1. **Configurações Inicias**"
      ]
    },
    {
      "cell_type": "code",
      "execution_count": null,
      "metadata": {},
      "outputs": [],
      "source": [
        "! git clone https://github.com/leticiacb1/Find-MaximumClique-Graph.git"
      ]
    },
    {
      "cell_type": "code",
      "execution_count": null,
      "metadata": {},
      "outputs": [],
      "source": []
    },
    {
      "cell_type": "markdown",
      "metadata": {},
      "source": [
        "1. **Abordagem Exaustiva**"
      ]
    },
    {
      "cell_type": "code",
      "execution_count": null,
      "metadata": {},
      "outputs": [],
      "source": []
    },
    {
      "cell_type": "code",
      "execution_count": null,
      "metadata": {
        "id": "2QuxS7IfDxr_"
      },
      "outputs": [],
      "source": []
    }
  ],
  "metadata": {
    "colab": {
      "provenance": []
    },
    "kernelspec": {
      "display_name": "Python 3",
      "name": "python3"
    },
    "language_info": {
      "name": "python"
    }
  },
  "nbformat": 4,
  "nbformat_minor": 0
}
