{
  "nbformat": 4,
  "nbformat_minor": 0,
  "metadata": {
    "colab": {
      "provenance": []
    },
    "kernelspec": {
      "name": "python3",
      "display_name": "Python 3"
    },
    "language_info": {
      "name": "python"
    }
  },
  "cells": [
    {
      "cell_type": "markdown",
      "source": [
        "# Projeto SuperComputação 2023.2\n",
        "\n",
        "## Análise de Redes Sociais: encontrando a clique máxima em um grafo.\n",
        "\n",
        "Aluna : Letícia Coêlho Barbosa\n",
        "\n",
        "<img alt= \"grafo\" src = \"https://upload.wikimedia.org/wikipedia/commons/thumb/d/d0/VR_complex.svg/1200px-VR_complex.svg.png\" width = \"600px\">"
      ],
      "metadata": {
        "id": "kZ4RO1BG3BOA"
      }
    },
    {
      "cell_type": "markdown",
      "source": [
        "### 0. **Configuração**"
      ],
      "metadata": {
        "id": "GcdvHt65_Lxa"
      }
    },
    {
      "cell_type": "code",
      "source": [
        "# Remove possível repositório já existente\n",
        "%cd \"../..\"\n",
        "! rm -rf Find-MaximumClique-Graph"
      ],
      "metadata": {
        "colab": {
          "base_uri": "https://localhost:8080/"
        },
        "id": "EegWcyjUB8wV",
        "outputId": "65e50ec4-b599-4c5d-e584-f9bf290052e2"
      },
      "execution_count": 1,
      "outputs": [
        {
          "output_type": "stream",
          "name": "stdout",
          "text": [
            "/\n"
          ]
        }
      ]
    },
    {
      "cell_type": "code",
      "source": [
        "# Clonando repositorio com as implementações:\n",
        "!git clone https://github.com/leticiacb1/Find-MaximumClique-Graph"
      ],
      "metadata": {
        "colab": {
          "base_uri": "https://localhost:8080/"
        },
        "id": "BeYOnFXR_MGk",
        "outputId": "684b2b0d-9f0e-4cbc-8b3b-ebca56a0d537"
      },
      "execution_count": 2,
      "outputs": [
        {
          "output_type": "stream",
          "name": "stdout",
          "text": [
            "Cloning into 'Find-MaximumClique-Graph'...\n",
            "remote: Enumerating objects: 267, done.\u001b[K\n",
            "remote: Counting objects: 100% (267/267), done.\u001b[K\n",
            "remote: Compressing objects: 100% (161/161), done.\u001b[K\n",
            "remote: Total 267 (delta 105), reused 234 (delta 74), pack-reused 0\u001b[K\n",
            "Receiving objects: 100% (267/267), 2.14 MiB | 11.46 MiB/s, done.\n",
            "Resolving deltas: 100% (105/105), done.\n"
          ]
        }
      ]
    },
    {
      "cell_type": "code",
      "source": [
        "# Entrando na pasta\n",
        "%cd Find-MaximumClique-Graph"
      ],
      "metadata": {
        "colab": {
          "base_uri": "https://localhost:8080/"
        },
        "id": "RYjKOAPpAnyo",
        "outputId": "b38cc0b7-a216-4903-efd1-757cf69ab69b"
      },
      "execution_count": 3,
      "outputs": [
        {
          "output_type": "stream",
          "name": "stdout",
          "text": [
            "/Find-MaximumClique-Graph\n"
          ]
        }
      ]
    },
    {
      "cell_type": "markdown",
      "source": [
        "### 1. **Inicialização**"
      ],
      "metadata": {
        "id": "4PCrQVRCHW8T"
      }
    },
    {
      "cell_type": "code",
      "source": [
        "# ----------------------\n",
        "# ----- Parâmetros -----\n",
        "# ----------------------\n",
        "\n",
        "lista_de_vertices = [5, 25, 50, 75, 100, 125, 150]\n",
        "\n",
        "lista_algoritimos = [\"0-busca-exaustiva-local\", \"1-busca-exaustiva-heuristica\" , \"2-busca-exaustiva-global\", \"3-busca-exaustiva-omp\"]\n",
        "\n",
        "# Padrão de escrita fos arquivos de grafo.\n",
        "init_file_name = \"data/graphs/grafo-\"\n",
        "extension_file_name = \".txt\"\n",
        "\n",
        "nome_de_arquivos = [init_file_name + str(v) + extension_file_name  for v in lista_de_vertices]"
      ],
      "metadata": {
        "id": "5FYJkRoBJ0Te"
      },
      "execution_count": 4,
      "outputs": []
    },
    {
      "cell_type": "markdown",
      "source": [
        "#### 1.1 Gerando grafos"
      ],
      "metadata": {
        "id": "NhYgzY6AHGz-"
      }
    },
    {
      "cell_type": "code",
      "source": [
        "# --- Demonstração do uso ---\n",
        "\n",
        "from src.python.utils.constroi_grafo import constroi_grafo\n",
        "\n",
        "nome_arquivo = nome_de_arquivos[1]\n",
        "num_vertices = lista_de_vertices[1]\n",
        "\n",
        "save_fig_graph = \"img/graphs/grafo-exemplo.png\"\n",
        "\n",
        "constroi_grafo(nome_arquivo, num_vertices, show = True, save_fig_graph = save_fig_graph)"
      ],
      "metadata": {
        "colab": {
          "base_uri": "https://localhost:8080/",
          "height": 591
        },
        "id": "b-B4CP9PHSlO",
        "outputId": "1bc96018-c41a-48dc-8895-7e3ab39470cb"
      },
      "execution_count": 5,
      "outputs": [
        {
          "output_type": "stream",
          "name": "stdout",
          "text": [
            " [INFO] O pacote utils foi importado.\n",
            " [INFO] Grafo densamente conectado gerado e salvo em 'data/graphs/grafo-25.txt'.\n",
            "\n"
          ]
        },
        {
          "output_type": "display_data",
          "data": {
            "text/plain": [
              "<Figure size 640x480 with 1 Axes>"
            ],
            "image/png": "[encoded data removed]"
          },
          "metadata": {}
        }
      ]
    },
    {
      "cell_type": "code",
      "source": [
        "# --- Gerando grafos ---\n",
        "\n",
        "from src.python.utils.constroi_grafo import constroi_grafo\n",
        "\n",
        "for filename , vertices in zip(nome_de_arquivos, lista_de_vertices):\n",
        "  constroi_grafo(filename, vertices)"
      ],
      "metadata": {
        "colab": {
          "base_uri": "https://localhost:8080/"
        },
        "id": "Ji0nuDKrNYOM",
        "outputId": "a9780b5c-34bb-4854-b109-903cf2b54462"
      },
      "execution_count": 6,
      "outputs": [
        {
          "output_type": "stream",
          "name": "stdout",
          "text": [
            " [INFO] Grafo densamente conectado gerado e salvo em 'data/graphs/grafo-5.txt'.\n",
            "\n",
            " [INFO] Grafo densamente conectado gerado e salvo em 'data/graphs/grafo-25.txt'.\n",
            "\n",
            " [INFO] Grafo densamente conectado gerado e salvo em 'data/graphs/grafo-50.txt'.\n",
            "\n",
            " [INFO] Grafo densamente conectado gerado e salvo em 'data/graphs/grafo-75.txt'.\n",
            "\n",
            " [INFO] Grafo densamente conectado gerado e salvo em 'data/graphs/grafo-100.txt'.\n",
            "\n",
            " [INFO] Grafo densamente conectado gerado e salvo em 'data/graphs/grafo-125.txt'.\n",
            "\n",
            " [INFO] Grafo densamente conectado gerado e salvo em 'data/graphs/grafo-150.txt'.\n",
            "\n"
          ]
        }
      ]
    },
    {
      "cell_type": "code",
      "source": [
        "# Verificando se os arquivos foram mesmo criados:\n",
        "%cd data/graphs\n",
        "!ls"
      ],
      "metadata": {
        "colab": {
          "base_uri": "https://localhost:8080/"
        },
        "id": "qFftQWYTUqUg",
        "outputId": "413258f5-edab-4bb2-ba2a-fa9aaa45ed64"
      },
      "execution_count": 7,
      "outputs": [
        {
          "output_type": "stream",
          "name": "stdout",
          "text": [
            "/Find-MaximumClique-Graph/data/graphs\n",
            "grafo-100.txt  grafo-150.txt  grafo-50.txt  grafo-75.txt\n",
            "grafo-125.txt  grafo-25.txt   grafo-5.txt   grafo.txt\n"
          ]
        }
      ]
    },
    {
      "cell_type": "code",
      "source": [
        "# Voltando para pasta principal:\n",
        "%cd \"../..\""
      ],
      "metadata": {
        "colab": {
          "base_uri": "https://localhost:8080/"
        },
        "id": "x1r-4K2lU2Qw",
        "outputId": "d96e8ce7-0ad2-485a-99dd-a01f635d2abf"
      },
      "execution_count": 8,
      "outputs": [
        {
          "output_type": "stream",
          "name": "stdout",
          "text": [
            "/Find-MaximumClique-Graph\n"
          ]
        }
      ]
    },
    {
      "cell_type": "markdown",
      "source": [
        "\n",
        "### 2. **Abordagem Exaustiva local**\n",
        "\n",
        "\n",
        "```cpp\n",
        "\n",
        "#include<iostream>\n",
        "#include<vector>\n",
        "#include <fstream>\n",
        "#include<algorithm>\n",
        "\n",
        "#include \"../utils/display-result.h\"\n",
        "#include \"../utils/ler-grafo.h\"\n",
        "\n",
        "using namespace std;\n",
        "\n",
        "// ---------------------------------------------------------------------------\n",
        "// -------------------------- CLIQUE MÁXIMA ----------------------------------\n",
        "// ---------------------------------------------------------------------------\n",
        "\n",
        "vector<int> EncontrarCliqueMaximoLocal(vector<vector<int>> grafo, int numVertices) {\n",
        "    /*\n",
        "    * Calcula clique máximo local do grafo\n",
        "    */\n",
        "\n",
        "    vector<int> cliqueMaximo;\n",
        "    vector<int> candidatos;\n",
        "\n",
        "    // No inicio todos os nós são candidatos\n",
        "    for (int i = 0; i < numVertices; ++i) {\n",
        "        candidatos.push_back(i);\n",
        "    }\n",
        "\n",
        "    // Enquanto lista de candidados não vazia\n",
        "    while(!candidatos.empty()){\n",
        "        int v = candidatos.back();\n",
        "        candidatos.pop_back();\n",
        "\n",
        "\n",
        "        bool podeAdicionar = true;\n",
        "        for (int u : cliqueMaximo) {\n",
        "            if (grafo[u][v] == 0) {\n",
        "                podeAdicionar = false;\n",
        "                break;\n",
        "            }\n",
        "        }\n",
        "\n",
        "        if (podeAdicionar) {\n",
        "            cliqueMaximo.push_back(v);\n",
        "            vector<int> novosCandidatos;\n",
        "\n",
        "            for (int u : candidatos) {\n",
        "                bool adjacenteATodos = true;\n",
        "\n",
        "                for (int c : cliqueMaximo) {\n",
        "                    if (grafo[u][c] == 0) {\n",
        "                        adjacenteATodos = false;\n",
        "                        break;\n",
        "                    }\n",
        "                }\n",
        "\n",
        "                if (adjacenteATodos) {\n",
        "                    novosCandidatos.push_back(u);\n",
        "                }\n",
        "            }\n",
        "\n",
        "            candidatos = novosCandidatos;\n",
        "        }\n",
        "   }\n",
        "\n",
        "   return cliqueMaximo;\n",
        "}\n",
        "\n",
        "\n",
        "// ---------------------------------------------------------------------------\n",
        "// ------------------------------- MAIN --------------------------------------\n",
        "// ---------------------------------------------------------------------------\n",
        "\n",
        "vector<int> main() {\n",
        "\n",
        "    string nomeArquivo = \"grafo.txt\";\n",
        "    int numVertices = 4;\n",
        "\n",
        "    vector<vector<int>> grafo = LerGrafo(nomeArquivo, numVertices);\n",
        "    vector<int> cliqueMaximo =  EncontrarCliqueMaximoLocal(grafo,numVertices);\n",
        "\n",
        "    displayResult(\"Busca Exaustiva Local\", cliqueMaximo);\n",
        "\n",
        "    return cliqueMaximo ;\n",
        "}\n",
        "\n",
        "\n",
        "```"
      ],
      "metadata": {
        "id": "Bz_kWYoA-gys"
      }
    },
    {
      "cell_type": "code",
      "source": [
        "!g++ -Wall -O3 -g \\\n",
        "    src/implementations/algorithm/0-busca-exaustiva-local.cpp \\\n",
        "    src/implementations/utils/display-result.cpp \\\n",
        "    src/implementations/utils/ler-grafo.cpp \\\n",
        "    -o 0-busca-exaustiva-local"
      ],
      "metadata": {
        "id": "2QuxS7IfDxr_"
      },
      "execution_count": 9,
      "outputs": []
    },
    {
      "cell_type": "code",
      "source": [
        "!./0-busca-exaustiva-local data/graphs/grafo-25.txt 25"
      ],
      "metadata": {
        "colab": {
          "base_uri": "https://localhost:8080/"
        },
        "id": "LgvngMgYGFlP",
        "outputId": "adcef95b-4abb-45c5-ffff-c4247274f8a3"
      },
      "execution_count": 10,
      "outputs": [
        {
          "output_type": "stream",
          "name": "stdout",
          "text": [
            " ===== [Busca Exaustiva Local] ===== \n",
            "\n",
            " > Clique Máxima encontrada : 25, 21, 19, 17, 14, 13, 11, 7\n",
            " > Tamanho : 8"
          ]
        }
      ]
    },
    {
      "cell_type": "markdown",
      "source": [
        "### 3. **Abordagem busca exaustiva local com heuristica**"
      ],
      "metadata": {
        "id": "pSpdY0A5-ulc"
      }
    },
    {
      "cell_type": "markdown",
      "source": [
        "Podemos definir o grau de adjacencia de um grafo simples como:\n",
        "\n",
        "> O grau de um vértice , com o grafo representado em uma matriz de adjacencia, é dado pela soma dos elementos de sua linha (ou coluna) correspondente. [1]\n",
        "\n",
        "ou, similarmente, também pode ser definido como:\n",
        "\n",
        "> O grau de um vértice v em um grafo G também pode\n",
        "ser visto como a quantidade de arestas incidentes em\n",
        "v. [2]\n",
        "\n",
        "Para facilitar o entendimento desse conceito, observe o grafo abaixo apresentado:\n",
        "\n",
        "<div align=\"center\">\n",
        "  <img alt=\"Exemplo de calculo de grau do nó\" src=\"https://github.com/leticiacb1/Find-MaximumClique-Graph/blob/main/img/utils/calcula_grau_exemplo.png?raw=true\" />\n",
        "</div>\n",
        "\n",
        "Temos que o grau dos vertices é dado pela quantidade de arestas ligadas a ele (no caso de um grafo não direcional, não faz diferença se essas arestas são de entrada ou de saída):\n",
        "\n",
        "$$d(v1) = 2$$\n",
        "\n",
        "$$d(v2) = 1$$\n",
        "\n",
        "$$d(v3) = 3$$\n",
        "\n",
        "$$d(v4) = 2$$\n",
        "\n",
        "$$d(v5) = 0$$\n",
        "\n",
        "\n",
        "É possível inferir que a estratégia de ordenar os vertices de acordo com o seu grau de adjacencia seja uma estratégia eficaz para melhorar o desempenho do algorítimo. Isso se deve ao fato de que os vértices com maiores graus de adjacência tendem a ter uma maior probabilidade de pertencer a clique máxima, visto que em um clique, todos os vértices estão concetados entre si.\n",
        "\n",
        "\n",
        "[1] https://www.ibilce.unesp.br/Home/Departamentos/MatematicaAplicada/socorro4029/representa_grafos2.pdf\n",
        "\n",
        "[2] https://www.facom.ufms.br/~fhvm/disciplinas/anteriores/2005/grafos/aula2.pdf"
      ],
      "metadata": {
        "id": "pTv5leckcKjz"
      }
    },
    {
      "cell_type": "markdown",
      "source": [
        "`Pseudo-Código`\n",
        "\n",
        "Utilizando como base o pseudocódigo inicialmente fornecido (`Busca Exaustiva Local`), podemos pensar nas seguintes implemnetações para a ordenação pelo calculo de adjacência:\n",
        "\n",
        "```cpp\n",
        "\n",
        "Função calculaGrau(grafo, vertice):\n",
        "    grau = 0\n",
        "    \n",
        "    para cada vizinho em grafo[nó]:\n",
        "        se existe_aresta(vertice, vizinho):\n",
        "            grau +=1\n",
        "    retornar grau\n",
        "\n",
        "Função OrdenarPorGrau(grafo, vertice1, vertice2):\n",
        "    retorna calculaGrau(grafo, vertice2) - calculaGrau(grafo, vertice1)\n",
        "\n",
        "Função EncontrarCliqueMaximaOrdenada(grafo, numVertices):\n",
        "    cliqueMaxima = ListaVazia()\n",
        "    candidatos = ListaDeNós()\n",
        "\n",
        "    Para cada i de 0 até numVertices - 1 Faça\n",
        "        Adicione i à lista de candidatos\n",
        "\n",
        "    // Ordena lista de candidatos usando a função OrdenaPorGrau\n",
        "    sort(candidatos, OrdenarPorGrau);\n",
        "\n",
        "    Enquanto candidatos não estiver vazia Faça\n",
        "        v = Último elemento de candidatos\n",
        "        Remova o último elemento de candidatos\n",
        "\n",
        "        podeAdicionar = Verdadeiro\n",
        "\n",
        "        Para cada u em cliqueMaxima Faça\n",
        "            Se grafo[u][v] == 0 Então\n",
        "                podeAdicionar = Falso\n",
        "                Pare o loop\n",
        "            Fim Se\n",
        "        Fim Para\n",
        "\n",
        "        Se podeAdicionar\n",
        "            Adicione v a cliqueMaxima\n",
        "            novosCandidatos = ListaDeNós()\n",
        "\n",
        "            Para cada u em candidatos Faça\n",
        "                adjacenteATodos = Verdadeiro\n",
        "\n",
        "                Para cada c em cliqueMaxima Faça\n",
        "                    Se grafo[u][c] == 0 Então\n",
        "                        adjacenteATodos = Falso\n",
        "                        Pare o loop\n",
        "                    Fim Se\n",
        "                Fim Para\n",
        "\n",
        "                Se adjacenteATodos\n",
        "                    Adicione u a novosCandidatos\n",
        "                Fim Se\n",
        "            Fim Para\n",
        "\n",
        "            // Ordena novos candidatos por grau\n",
        "            sort(novosCandidatos, OrdenarPorGrau);\n",
        "\n",
        "            candidatos = novosCandidatos\n",
        "        Fim Se\n",
        "    Fim Enquanto\n",
        "\n",
        "    Retorne cliqueMaxima\n",
        "Fim Função\n",
        "\n",
        "```"
      ],
      "metadata": {
        "id": "JQ_CkXNRca6z"
      }
    },
    {
      "cell_type": "code",
      "source": [
        "!g++ -Wall -O3 -g \\\n",
        "    src/implementations/algorithm/1-busca-exaustiva-heuristica.cpp \\\n",
        "    src/implementations/utils/display-result.cpp \\\n",
        "    src/implementations/utils/ler-grafo.cpp \\\n",
        "    -o 1-busca-exaustiva-heuristica"
      ],
      "metadata": {
        "id": "UQ_LEwwa-ryO"
      },
      "execution_count": 11,
      "outputs": []
    },
    {
      "cell_type": "code",
      "source": [
        "!./1-busca-exaustiva-heuristica data/graphs/grafo-25.txt 25"
      ],
      "metadata": {
        "colab": {
          "base_uri": "https://localhost:8080/"
        },
        "id": "Dd3lQILtjX4J",
        "outputId": "e23f69e9-d3c1-406a-ceb6-bb177de70961"
      },
      "execution_count": 12,
      "outputs": [
        {
          "output_type": "stream",
          "name": "stdout",
          "text": [
            " ===== [Busca Exaustiva Local com Heuristica] ===== \n",
            "\n",
            " > Clique Máxima encontrada : 25, 4, 7, 8, 14, 17, 13, 15\n",
            " > Tamanho : 8"
          ]
        }
      ]
    },
    {
      "cell_type": "markdown",
      "source": [
        "### 4. **Abordagem Exaustiva global**\n",
        "\n",
        "```cpp\n",
        "#include<iostream>\n",
        "#include <numeric>\n",
        "#include<vector>\n",
        "#include <fstream>\n",
        "#include<algorithm>\n",
        "\n",
        "#include \"../utils/display-result.h\"\n",
        "#include \"../utils/ler-grafo.h\"\n",
        "\n",
        "using namespace std;\n",
        "\n",
        "// ---------------------------------------------------------------------------\n",
        "// -------------------------- CLIQUE MÁXIMA ----------------------------------\n",
        "// ---------------------------------------------------------------------------\n",
        "\n",
        "bool Clique(vector<int>& cliqueAtual, vector<vector<int>>& grafo) {\n",
        "  /*\n",
        "  * Verifica se clique calculado realmente já forma um clique\n",
        "  */\n",
        "\n",
        "    int n = cliqueAtual.size();\n",
        "    for (int i = 0; i < n; ++i) {\n",
        "        for (int j = i+1; j < n; ++j) {\n",
        "            if (grafo[cliqueAtual[i]][cliqueAtual[j]] == 0) {\n",
        "                return false;\n",
        "            }\n",
        "        }\n",
        "    }\n",
        "    return true;\n",
        "}\n",
        "\n",
        "vector<int> addCandidatos(vector<vector<int>> &grafo, int &v, vector<int> &candidatos){\n",
        "    /*\n",
        "    * Verifica a existencia de arestas entre o vertices entre v e os demais.\n",
        "    * Adiciona em umalista aqueles vertices que possuem conexão com v.\n",
        "    */\n",
        "\n",
        "    vector<int> novosCandidatos;\n",
        "    for (int u : candidatos) {\n",
        "        if (grafo[v][u] == 1) {\n",
        "            novosCandidatos.push_back(u);\n",
        "        }\n",
        "    }\n",
        "\n",
        "    return novosCandidatos;\n",
        "}\n",
        "\n",
        "void EncontrarCliqueMaximoGlobal(vector<vector<int>>& grafo, vector<int>& candidatos, vector<int>& cliqueAtual, vector<int>& cliqueMaximo) {\n",
        "  /*\n",
        "  * Calcula clique máximo global do grafo\n",
        "  */\n",
        "\n",
        "    if(candidatos.empty()) {\n",
        "        if (cliqueAtual.size() > cliqueMaximo.size() && Clique(cliqueAtual, grafo)) {\n",
        "            cliqueMaximo = cliqueAtual;\n",
        "        }\n",
        "    }else{\n",
        "        int v = candidatos.back();\n",
        "        candidatos.pop_back();\n",
        "\n",
        "        // --- Caso o vertice v pertença a solução do clique máximo ---\n",
        "        cliqueAtual.push_back(v);\n",
        "        vector<int> novosCandidatos = addCandidatos(grafo, v, candidatos);\n",
        "        EncontrarCliqueMaximoGlobal(grafo, novosCandidatos, cliqueAtual, cliqueMaximo);\n",
        "\n",
        "        // --- Caso o vertice v não pertença a solução do clique máximo ---\n",
        "        cliqueAtual.pop_back();\n",
        "        EncontrarCliqueMaximoGlobal(grafo, candidatos, cliqueAtual, cliqueMaximo);\n",
        "\n",
        "        candidatos.push_back(v);\n",
        "    }\n",
        "}\n",
        "\n",
        "// ---------------------------------------------------------------------------\n",
        "// ------------------------------- MAIN --------------------------------------\n",
        "// ---------------------------------------------------------------------------\n",
        "\n",
        "int main(int argc, char* argv[]) {\n",
        "\n",
        "    if(argc != 3 ){\n",
        "      cout << \" [ERROR] Qunatidade errada de argumentos. Esperado = 3 argumentos | Recebeu = \" << argc << \" argumentos \\n\";\n",
        "      return 1;\n",
        "    }\n",
        "\n",
        "    string nomeArquivo = argv[1];\n",
        "    int numVertices = stoi(argv[2]);\n",
        "\n",
        "    // ------ Lê Grafo ------\n",
        "    vector<vector<int>> grafo = LerGrafo(nomeArquivo, numVertices);\n",
        "\n",
        "    // ------ Clique Máximo ------\n",
        "    // Gera candidatos inicias (todos os vertices)\n",
        "\n",
        "    vector<int> candidatosInicias(numVertices);\n",
        "    iota(candidatosInicias.begin(), candidatosInicias.end(), 0);\n",
        "\n",
        "    vector<int> cliqueAtual;\n",
        "    vector<int> cliqueMaximo;\n",
        "\n",
        "    EncontrarCliqueMaximoGlobal(grafo, candidatosInicias, cliqueAtual, cliqueMaximo);\n",
        "\n",
        "    // ------ Mostra na tela ------\n",
        "    displayResult(\"Busca Exaustiva Global\", cliqueMaximo);\n",
        "\n",
        "    return 0;\n",
        "}\n",
        "\n",
        "```\n"
      ],
      "metadata": {
        "id": "aBH_1XKj-nQV"
      }
    },
    {
      "cell_type": "code",
      "source": [
        "!g++ -Wall -O3 -g \\\n",
        "    src/implementations/algorithm/2-busca-exaustiva-global.cpp \\\n",
        "    src/implementations/utils/display-result.cpp \\\n",
        "    src/implementations/utils/ler-grafo.cpp \\\n",
        "    -o 2-busca-exaustiva-global"
      ],
      "metadata": {
        "id": "wBBPqTLa-z2m"
      },
      "execution_count": 13,
      "outputs": []
    },
    {
      "cell_type": "code",
      "source": [
        "!./2-busca-exaustiva-global data/graphs/grafo-5.txt 5"
      ],
      "metadata": {
        "colab": {
          "base_uri": "https://localhost:8080/"
        },
        "id": "S_0du62kbdSK",
        "outputId": "3bb38d9e-7da1-430d-d658-9cf89407cd54"
      },
      "execution_count": 14,
      "outputs": [
        {
          "output_type": "stream",
          "name": "stdout",
          "text": [
            " ===== [Busca Exaustiva Global] ===== \n",
            "\n",
            " > Clique Máxima encontrada : 5, 4, 2, 1\n",
            " > Tamanho : 4"
          ]
        }
      ]
    },
    {
      "cell_type": "markdown",
      "source": [
        "### 5. **Abordagem Exautiva global com OMP**\n",
        "\n",
        "```cpp\n",
        "#include<iostream>\n",
        "#include <numeric>\n",
        "#include<vector>\n",
        "#include <fstream>\n",
        "#include<algorithm>\n",
        "#include <omp.h>\n",
        "\n",
        "#include \"../utils/display-result.h\"\n",
        "#include \"../utils/ler-grafo.h\"\n",
        "\n",
        "using namespace std;\n",
        "\n",
        "// ---------------------------------------------------------------------------\n",
        "// -------------------------- CLIQUE MÁXIMA ----------------------------------\n",
        "// ---------------------------------------------------------------------------\n",
        "\n",
        "bool Clique(vector<int>& cliqueAtual, vector<vector<int>>& grafo) {\n",
        "  /*\n",
        "  * Verifica se clique calculado realmente já forma um clique\n",
        "  */\n",
        "\n",
        "    int n = cliqueAtual.size();\n",
        "    bool ehClique = true;\n",
        "\n",
        "    #pragma omp parallel for shared(ehClique) collapse(2)\n",
        "    for (int i = 0; i < n; ++i) {\n",
        "        for (int j = i+1; j < n; ++j) {\n",
        "            if (grafo[cliqueAtual[i]][cliqueAtual[j]] == 0) {\n",
        "                #pragma omp critical\n",
        "                {\n",
        "                  ehClique = false;\n",
        "                }\n",
        "            }\n",
        "        }\n",
        "    }\n",
        "\n",
        "    return ehClique;\n",
        "}\n",
        "\n",
        "vector<int> addCandidatos(vector<vector<int>> &grafo, int &v, vector<int> &candidatos){\n",
        "    /*\n",
        "    * Verifica a existencia de arestas entre o vertices entre v e os demais.\n",
        "    * Adiciona em umalista aqueles vertices que possuem conexão com v.\n",
        "    */\n",
        "\n",
        "    vector<int> novosCandidatos;\n",
        "\n",
        "    #pragma omp parallel for\n",
        "    for (int u : candidatos) {\n",
        "\n",
        "        if (grafo[v][u] == 1) {\n",
        "            #pragma omp critical\n",
        "            {\n",
        "              novosCandidatos.push_back(u);\n",
        "            }\n",
        "        }\n",
        "    }\n",
        "\n",
        "    return novosCandidatos;\n",
        "}\n",
        "\n",
        "void EncontrarCliqueMaximoGlobal(vector<vector<int>>& grafo, vector<int>& candidatos, vector<int>& cliqueAtual, vector<int>& cliqueMaximo) {\n",
        "  /*\n",
        "  * Calcula clique máximo global do grafo\n",
        "  */\n",
        "\n",
        "    if(candidatos.empty()) {\n",
        "        if (cliqueAtual.size() > cliqueMaximo.size() && Clique(cliqueAtual, grafo)) {\n",
        "            cliqueMaximo = cliqueAtual;\n",
        "        }\n",
        "    }else{\n",
        "        int v = candidatos.back();\n",
        "        candidatos.pop_back();\n",
        "\n",
        "        // --- Caso o vertice v pertença a solução do clique máximo ---\n",
        "        cliqueAtual.push_back(v);\n",
        "        vector<int> novosCandidatos = addCandidatos(grafo, v, candidatos);\n",
        "        EncontrarCliqueMaximoGlobal(grafo, novosCandidatos, cliqueAtual, cliqueMaximo);\n",
        "\n",
        "        // --- Caso o vertice v não pertença a solução do clique máximo ---\n",
        "        cliqueAtual.pop_back();\n",
        "        EncontrarCliqueMaximoGlobal(grafo, candidatos, cliqueAtual, cliqueMaximo);\n",
        "\n",
        "        candidatos.push_back(v);\n",
        "    }\n",
        "}\n",
        "\n",
        "// ---------------------------------------------------------------------------\n",
        "// ------------------------------- MAIN --------------------------------------\n",
        "// ---------------------------------------------------------------------------\n",
        "\n",
        "int main(int argc, char* argv[]) {\n",
        "\n",
        "    if(argc != 3 ){\n",
        "      cout << \" [ERROR] Qunatidade errada de argumentos. Esperado = 3 argumentos | Recebeu = \" << argc << \" argumentos \\n\";\n",
        "      return 1;\n",
        "    }\n",
        "\n",
        "    string nomeArquivo = argv[1];\n",
        "    int numVertices = stoi(argv[2]);\n",
        "\n",
        "    // ------ Lê Grafo ------\n",
        "\n",
        "    vector<vector<int>> grafo = LerGrafo(nomeArquivo, numVertices);\n",
        "\n",
        "    // ------ Clique Máximo ------\n",
        "    // Gera candidatos inicias (todos os vertices)\n",
        "\n",
        "    vector<int> candidatosInicias(numVertices);\n",
        "    iota(candidatosInicias.begin(), candidatosInicias.end(), 0);\n",
        "\n",
        "    vector<int> cliqueAtual;\n",
        "    vector<int> cliqueMaximo;\n",
        "\n",
        "    EncontrarCliqueMaximoGlobal(grafo, candidatosInicias, cliqueAtual, cliqueMaximo);\n",
        "\n",
        "    // ------ Mostra na tela ------\n",
        "    displayResult(\"Busca Exaustiva Global\", cliqueMaximo);\n",
        "\n",
        "    return 0;\n",
        "}\n",
        "\n",
        "```"
      ],
      "metadata": {
        "id": "BINrZPGA-7xF"
      }
    },
    {
      "cell_type": "code",
      "source": [
        "!g++ -fopenmp  -Wall -O3 -g \\\n",
        "    src/implementations/algorithm/3-busca-exaustiva-omp.cpp \\\n",
        "    src/implementations/utils/display-result.cpp \\\n",
        "    src/implementations/utils/ler-grafo.cpp \\\n",
        "    -o 3-busca-exaustiva-omp"
      ],
      "metadata": {
        "id": "nuFIVkEAgr45"
      },
      "execution_count": 15,
      "outputs": []
    },
    {
      "cell_type": "code",
      "source": [
        "!./3-busca-exaustiva-omp data/graphs/grafo-5.txt 5"
      ],
      "metadata": {
        "colab": {
          "base_uri": "https://localhost:8080/"
        },
        "id": "DLorNIhD_AQc",
        "outputId": "16135890-420f-4a3c-adf7-f6def4c8aaaf"
      },
      "execution_count": 16,
      "outputs": [
        {
          "output_type": "stream",
          "name": "stdout",
          "text": [
            " ===== [Busca Exaustiva Global] ===== \n",
            "\n",
            " > Clique Máxima encontrada : 5, 2, 4, 1\n",
            " > Tamanho : 4"
          ]
        }
      ]
    },
    {
      "cell_type": "markdown",
      "source": [
        "### 6. **Abordagem Exaustiva global com MPI**\n",
        "\n",
        "```cpp\n",
        "\n",
        "#include<iostream>\n",
        "#include <numeric>\n",
        "#include<vector>\n",
        "#include <fstream>\n",
        "#include<algorithm>\n",
        "#include <mpi.h>\n",
        "\n",
        "#include \"../utils/display-result.h\"\n",
        "#include \"../utils/ler-grafo.h\"\n",
        "\n",
        "using namespace std;\n",
        "\n",
        "// ---------------------------------------------------------------------------\n",
        "// -------------------------- CLIQUE MÁXIMA ----------------------------------\n",
        "// ---------------------------------------------------------------------------\n",
        "\n",
        "bool Clique(vector<int>& cliqueAtual, vector<vector<int>>& grafo) {\n",
        "  /*\n",
        "  * Verifica se clique calculado realmente já forma um clique\n",
        "  */\n",
        "\n",
        "    int n = cliqueAtual.size();\n",
        "    for (int i = 0; i < n; ++i) {\n",
        "        for (int j = i+1; j < n; ++j) {\n",
        "            if (grafo[cliqueAtual[i]][cliqueAtual[j]] == 0) {\n",
        "                return false;\n",
        "            }\n",
        "        }\n",
        "    }\n",
        "    return true;\n",
        "}\n",
        "\n",
        "vector<int> addCandidatos(vector<vector<int>> &grafo, int &v, vector<int> &candidatos){\n",
        "    /*\n",
        "    * Verifica a existencia de arestas entre o vertices entre v e os demais.\n",
        "    * Adiciona em umalista aqueles vertices que possuem conexão com v.\n",
        "    */\n",
        "\n",
        "    vector<int> novosCandidatos;\n",
        "    for (int u : candidatos) {\n",
        "        if (grafo[v][u] == 1) {\n",
        "            novosCandidatos.push_back(u);\n",
        "        }\n",
        "    }\n",
        "\n",
        "    return novosCandidatos;\n",
        "}\n",
        "\n",
        "void EncontrarCliqueMaximoGlobal(vector<vector<int>>& grafo, vector<int>& candidatos, vector<int>& cliqueAtual, vector<int>& cliqueMaximo) {\n",
        "  /*\n",
        "  * Calcula clique máximo global do grafo\n",
        "  */\n",
        "\n",
        "    if(candidatos.empty()) {\n",
        "        if (cliqueAtual.size() > cliqueMaximo.size() && Clique(cliqueAtual, grafo)) {\n",
        "            cliqueMaximo = cliqueAtual;\n",
        "        }\n",
        "    }else{\n",
        "        int v = candidatos.back();\n",
        "        candidatos.pop_back();\n",
        "\n",
        "        // --- Caso o vertice v pertença a solução do clique máximo ---\n",
        "        cliqueAtual.push_back(v);\n",
        "        vector<int> novosCandidatos = addCandidatos(grafo, v, candidatos);\n",
        "        EncontrarCliqueMaximoGlobal(grafo, novosCandidatos, cliqueAtual, cliqueMaximo);\n",
        "\n",
        "        // --- Caso o vertice v não pertença a solução do clique máximo ---\n",
        "        cliqueAtual.pop_back();\n",
        "        EncontrarCliqueMaximoGlobal(grafo, candidatos, cliqueAtual, cliqueMaximo);\n",
        "\n",
        "        candidatos.push_back(v);\n",
        "    }\n",
        "}\n",
        "\n",
        "// ---------------------------------------------------------------------------\n",
        "// ------------------------------- MAIN --------------------------------------\n",
        "// ---------------------------------------------------------------------------\n",
        "\n",
        "int main(int argc, char** argv) {\n",
        "\n",
        "    // ------ Parametros ------\n",
        "   if(argc != 3 ){\n",
        "      cout << \" [ERROR] Qunatidade errada de argumentos. Esperado = 3 argumentos | Recebeu = \" << argc << \" argumentos \\n\";\n",
        "      return 1;\n",
        "    }\n",
        "\n",
        "    string nomeArquivo = argv[1];\n",
        "    int numVertices = stoi(argv[2]);\n",
        "\n",
        "    vector<vector<int>> grafo;\n",
        "    vector<int> cliqueMaximoGlobal, cliqueMaximoParcial;\n",
        "\n",
        "\n",
        "    // ------ Instancia MPI ------\n",
        "\n",
        "    MPI_Init(&argc, &argv);\n",
        "\n",
        "    int rank, size;\n",
        "    MPI_Comm_rank(MPI_COMM_WORLD, &rank);\n",
        "    MPI_Comm_size(MPI_COMM_WORLD, &size);\n",
        "\n",
        "\n",
        "    if(rank == 0 ){\n",
        "      // ------ Processo Pai ------\n",
        "      // ------ Lê Grafo ------\n",
        "      grafo = LerGrafo(nomeArquivo, numVertices);\n",
        "\n",
        "      // --- Compartilha o número de vertices com os processos ---\n",
        "      MPI_Bcast(&numVertices, 1, MPI_INT, 0, MPI_COMM_WORLD);\n",
        "\n",
        "      // --- Envia parte do grafo para os processos ---\n",
        "\n",
        "      for (int i = 0; i < numVertices; ++i) {\n",
        "        MPI_Bcast(grafo[i].data(), numVertices, MPI_INT, 0, MPI_COMM_WORLD);\n",
        "      }\n",
        "\n",
        "    }else{\n",
        "      // ------ Processos filhos ------\n",
        "      // Recebe número de vértices\n",
        "\n",
        "      // Outros processos recebem o número de vértices\n",
        "      MPI_Bcast(&numVertices, 1, MPI_INT, 0, MPI_COMM_WORLD);\n",
        "\n",
        "      // Alocar espaço para receber a parte do grafo\n",
        "      grafo.resize(numVertices, vector<int>(numVertices, 0));\n",
        "\n",
        "      // Receber a parte do grafo do processo raiz\n",
        "      for (int i = 0; i < numVertices; ++i) {\n",
        "          MPI_Bcast(grafo[i].data(), numVertices, MPI_INT, 0, MPI_COMM_WORLD);\n",
        "      }\n",
        "    }\n",
        "\n",
        "    // ------------ Executado por todos ------------\n",
        "    // Gera candidatos inicias (todos os vertices)\n",
        "    vector<int> cliqueAtual;\n",
        "    vector<int> cliqueMaximo;\n",
        "\n",
        "    vector<int> candidatosInicias(numVertices);\n",
        "    iota(candidatosInicias.begin(), candidatosInicias.end(), 0);\n",
        "\n",
        "    EncontrarCliqueMaximoGlobal(grafo, candidatosInicias, cliqueAtual, cliqueMaximo);\n",
        "\n",
        "    if(rank != 0){\n",
        "      // Envia resultados parciais obtidos com aquela porção do grafo:\n",
        "      MPI_Send(cliqueMaximo.data(), numVertices, MPI_INT, 0, 0, MPI_COMM_WORLD);\n",
        "\n",
        "    }else{\n",
        "      // Atualiza partialCliqueMaximo com tamanho do número de vertices:\n",
        "      vector<int> partialCliqueMaximo(numVertices, 0);\n",
        "\n",
        "      for (int i = 1; i < size; ++i) {\n",
        "        MPI_Recv(partialCliqueMaximo.data(), numVertices, MPI_INT, i, 0, MPI_COMM_WORLD, MPI_STATUS_IGNORE);\n",
        "\n",
        "        // Atualizar clique máximo global se necessário\n",
        "        if (partialCliqueMaximo.size() > cliqueMaximo.size() && Clique(partialCliqueMaximo, grafo)) {\n",
        "            cliqueMaximo = partialCliqueMaximo;\n",
        "        }\n",
        "      }\n",
        "\n",
        "      // ------ Mostra na tela ------\n",
        "      displayResult(\"Busca Exaustiva Global\", cliqueMaximo);\n",
        "    }\n",
        "\n",
        "    MPI_Finalize();\n",
        "    return 0;\n",
        "}\n",
        "\n",
        "```"
      ],
      "metadata": {
        "id": "30WTIPl8_BNh"
      }
    },
    {
      "cell_type": "code",
      "source": [
        "!mpic++ -o 4-busca-exaustiva-mpi src/implementations/algorithm/4-busca-exaustiva-mpi.cpp \\\n",
        "                                 src/implementations/utils/display-result.cpp\\\n",
        "                                 src/implementations/utils/ler-grafo.cpp"
      ],
      "metadata": {
        "id": "zmg2a5IAykBF"
      },
      "execution_count": 17,
      "outputs": []
    },
    {
      "cell_type": "code",
      "source": [
        "!mpirun --allow-run-as-root -np 1 ./4-busca-exaustiva-mpi data/graphs/grafo-5.txt 5"
      ],
      "metadata": {
        "colab": {
          "base_uri": "https://localhost:8080/"
        },
        "id": "vEmDoowTyk3u",
        "outputId": "d58eb3b7-1500-45bc-bf0d-b7e4d39a8395"
      },
      "execution_count": 18,
      "outputs": [
        {
          "output_type": "stream",
          "name": "stdout",
          "text": [
            " ===== [Busca Exaustiva Global] ===== \n",
            "\n",
            " > Clique Máxima encontrada : 5, 4, 2, 1\n",
            " > Tamanho : 4"
          ]
        }
      ]
    },
    {
      "cell_type": "markdown",
      "source": [
        "#### 6.1 **Arquivo de configuração para o Cluster**"
      ],
      "metadata": {
        "id": "muUIHv9RynZb"
      }
    },
    {
      "cell_type": "markdown",
      "source": [
        "```bash\n",
        "#!/bin/bash  \n",
        "#SBATCH --job-name=4-busca-exaustiva-mpi\n",
        "#SBATCH --nodes=2\n",
        "#SBATCH --tasks=4     \n",
        "\n",
        "mpirun -np 4 ./4-busca-exaustiva-mpi\n",
        "```"
      ],
      "metadata": {
        "id": "7_R9knrX1RIn"
      }
    },
    {
      "cell_type": "markdown",
      "source": [
        "### 7. **Resultado Esperado**"
      ],
      "metadata": {
        "id": "1ziGzas1haNU"
      }
    },
    {
      "cell_type": "code",
      "source": [
        "# Comparando resultado obtido via biblioteca do python:\n",
        "\n",
        "from src.python.utils.clique_maximo_resposta import clique_maximo_resposta\n",
        "\n",
        "nome_arquivo = \"/Find-MaximumClique-Graph/data/graphs/grafo-5.txt\"\n",
        "clique_maximo_resposta(nome_arquivo, debug = True)"
      ],
      "metadata": {
        "colab": {
          "base_uri": "https://localhost:8080/"
        },
        "id": "hwKJDPxQiAA6",
        "outputId": "28de43ca-1764-403d-b314-1a5b4ff51734"
      },
      "execution_count": 19,
      "outputs": [
        {
          "output_type": "stream",
          "name": "stdout",
          "text": [
            " ===== [ RESPOSTAS ] ===== \n",
            "\n",
            " > Cliques maximais encontradas:\n",
            "['5', '2', '1', '3']\n",
            "['5', '2', '1', '4']\n",
            "\n",
            " > Clique máxima encontrada: ['5', '2', '1', '3']\n",
            "\n",
            " > Clique máxima tamanho: 4\n"
          ]
        },
        {
          "output_type": "execute_result",
          "data": {
            "text/plain": [
              "['5', '2', '1', '3']"
            ]
          },
          "metadata": {},
          "execution_count": 19
        }
      ]
    },
    {
      "cell_type": "markdown",
      "source": [
        "###8. **Verificando desempenho dos Algoritimos**"
      ],
      "metadata": {
        "id": "OeWNaUd4_GaP"
      }
    },
    {
      "cell_type": "code",
      "source": [
        "#   ---------------------------------\n",
        "#   ---- Monta lista de comandos ----\n",
        "#   ---------------------------------\n",
        "\n",
        "#   Para executar o arquivo:\n",
        "#   > ./executavel grafo.txt num_vetices\n",
        "\n",
        "dic_comandos = {}\n",
        "\n",
        "for algoritimo in lista_algoritimos:\n",
        "  aux = []\n",
        "  for v , grafo in zip(lista_de_vertices , nome_de_arquivos):\n",
        "    aux.append([f\"./{algoritimo}\" , f\"{grafo}\",  f\"{v}\"])\n",
        "\n",
        "  dic_comandos[algoritimo] = aux\n",
        "\n",
        "dic_comandos"
      ],
      "metadata": {
        "colab": {
          "base_uri": "https://localhost:8080/"
        },
        "id": "Zp5rSC0UCiLd",
        "outputId": "02956a1c-2116-4082-cb5f-11aa129bfb9a"
      },
      "execution_count": 20,
      "outputs": [
        {
          "output_type": "execute_result",
          "data": {
            "text/plain": [
              "{'0-busca-exaustiva-local': [['./0-busca-exaustiva-local',\n",
              "   'data/graphs/grafo-5.txt',\n",
              "   '5'],\n",
              "  ['./0-busca-exaustiva-local', 'data/graphs/grafo-25.txt', '25'],\n",
              "  ['./0-busca-exaustiva-local', 'data/graphs/grafo-50.txt', '50'],\n",
              "  ['./0-busca-exaustiva-local', 'data/graphs/grafo-75.txt', '75'],\n",
              "  ['./0-busca-exaustiva-local', 'data/graphs/grafo-100.txt', '100'],\n",
              "  ['./0-busca-exaustiva-local', 'data/graphs/grafo-125.txt', '125'],\n",
              "  ['./0-busca-exaustiva-local', 'data/graphs/grafo-150.txt', '150']],\n",
              " '1-busca-exaustiva-heuristica': [['./1-busca-exaustiva-heuristica',\n",
              "   'data/graphs/grafo-5.txt',\n",
              "   '5'],\n",
              "  ['./1-busca-exaustiva-heuristica', 'data/graphs/grafo-25.txt', '25'],\n",
              "  ['./1-busca-exaustiva-heuristica', 'data/graphs/grafo-50.txt', '50'],\n",
              "  ['./1-busca-exaustiva-heuristica', 'data/graphs/grafo-75.txt', '75'],\n",
              "  ['./1-busca-exaustiva-heuristica', 'data/graphs/grafo-100.txt', '100'],\n",
              "  ['./1-busca-exaustiva-heuristica', 'data/graphs/grafo-125.txt', '125'],\n",
              "  ['./1-busca-exaustiva-heuristica', 'data/graphs/grafo-150.txt', '150']],\n",
              " '2-busca-exaustiva-global': [['./2-busca-exaustiva-global',\n",
              "   'data/graphs/grafo-5.txt',\n",
              "   '5'],\n",
              "  ['./2-busca-exaustiva-global', 'data/graphs/grafo-25.txt', '25'],\n",
              "  ['./2-busca-exaustiva-global', 'data/graphs/grafo-50.txt', '50'],\n",
              "  ['./2-busca-exaustiva-global', 'data/graphs/grafo-75.txt', '75'],\n",
              "  ['./2-busca-exaustiva-global', 'data/graphs/grafo-100.txt', '100'],\n",
              "  ['./2-busca-exaustiva-global', 'data/graphs/grafo-125.txt', '125'],\n",
              "  ['./2-busca-exaustiva-global', 'data/graphs/grafo-150.txt', '150']],\n",
              " '3-busca-exaustiva-omp': [['./3-busca-exaustiva-omp',\n",
              "   'data/graphs/grafo-5.txt',\n",
              "   '5'],\n",
              "  ['./3-busca-exaustiva-omp', 'data/graphs/grafo-25.txt', '25'],\n",
              "  ['./3-busca-exaustiva-omp', 'data/graphs/grafo-50.txt', '50'],\n",
              "  ['./3-busca-exaustiva-omp', 'data/graphs/grafo-75.txt', '75'],\n",
              "  ['./3-busca-exaustiva-omp', 'data/graphs/grafo-100.txt', '100'],\n",
              "  ['./3-busca-exaustiva-omp', 'data/graphs/grafo-125.txt', '125'],\n",
              "  ['./3-busca-exaustiva-omp', 'data/graphs/grafo-150.txt', '150']]}"
            ]
          },
          "metadata": {},
          "execution_count": 20
        }
      ]
    },
    {
      "cell_type": "markdown",
      "source": [
        "#### 8.1 **Comparando Busca Exaustiva Local com Busca Exaustiva Heurística**"
      ],
      "metadata": {
        "id": "Z-_9sewJ2mhz"
      }
    },
    {
      "cell_type": "code",
      "source": [
        "#   ---------------------------------------\n",
        "#   -------- Busca Exaustiva Local --------\n",
        "#   ---------------------------------------\n",
        "from src.python.utils.gera_estatisticas import gera_estatisticas\n",
        "\n",
        "arquivo_csv = 'data/stats_busca-exaustiva-local.csv'\n",
        "algoritimo = 'busca-exaustiva-local'\n",
        "lista_commandos = dic_comandos['0-busca-exaustiva-local']\n",
        "\n",
        "df_exaustiva_local = gera_estatisticas(algoritimo, lista_de_vertices, lista_commandos, arquivo_csv, debug = False)\n",
        "df_exaustiva_local"
      ],
      "metadata": {
        "colab": {
          "base_uri": "https://localhost:8080/",
          "height": 269
        },
        "id": "bTIODiR_w8Hs",
        "outputId": "e8c7b493-455a-4f50-d2cb-30efeb2d68e1"
      },
      "execution_count": 21,
      "outputs": [
        {
          "output_type": "execute_result",
          "data": {
            "text/plain": [
              "              Algoritimo  Vertices  \\\n",
              "0  busca-exaustiva-local         5   \n",
              "1  busca-exaustiva-local        25   \n",
              "2  busca-exaustiva-local        50   \n",
              "3  busca-exaustiva-local        75   \n",
              "4  busca-exaustiva-local       100   \n",
              "5  busca-exaustiva-local       125   \n",
              "6  busca-exaustiva-local       150   \n",
              "\n",
              "                                     Clique Esperado  \\\n",
              "0                                       [5, 2, 1, 3]   \n",
              "1                  [14, 17, 7, 8, 4, 15, 22, 10, 16]   \n",
              "2        [27, 49, 44, 12, 41, 33, 25, 36, 5, 39, 28]   \n",
              "3  [38, 70, 28, 53, 44, 43, 22, 26, 59, 24, 75, 1...   \n",
              "4  [70, 21, 38, 11, 60, 75, 78, 95, 100, 24, 99, ...   \n",
              "5  [52, 67, 24, 41, 110, 7, 125, 64, 121, 6, 123,...   \n",
              "6  [99, 61, 104, 11, 103, 145, 105, 123, 120, 39,...   \n",
              "\n",
              "                                    Clique Calculado  Tamanho Esperado  \\\n",
              "0                                   [ 5,  4,  2,  1]                 4   \n",
              "1            [ 25,  21,  19,  17,  14,  13,  11,  7]                 9   \n",
              "2           [ 50,  49,  48,  46,  41,  32,  30,  13]                11   \n",
              "3  [ 75,  74,  73,  70,  68,  67,  59,  44,  30, ...                15   \n",
              "4  [ 100,  99,  97,  90,  84,  75,  62,  49,  21,...                13   \n",
              "5  [ 125,  124,  119,  115,  113,  111,  108,  90...                16   \n",
              "6  [ 150,  149,  145,  144,  137,  135,  126,  10...                16   \n",
              "\n",
              "   Tamanho Calculado  Time (s) Mesmo Tamanho ?  \n",
              "0                  4  0.003113             Sim  \n",
              "1                  8  0.003186             Não  \n",
              "2                  8  0.003472             Não  \n",
              "3                 12  0.003715             Não  \n",
              "4                 10  0.003025             Não  \n",
              "5                 13  0.004803             Não  \n",
              "6                 13  0.005872             Não  "
            ],
            "text/html": [
              "\n",
              "  <div id=\"df-afac3fd4-93ff-45ff-9e7c-4ce7992a082f\" class=\"colab-df-container\">\n",
              "    <div>\n",
              "<style scoped>\n",
              "    .dataframe tbody tr th:only-of-type {\n",
              "        vertical-align: middle;\n",
              "    }\n",
              "\n",
              "    .dataframe tbody tr th {\n",
              "        vertical-align: top;\n",
              "    }\n",
              "\n",
              "    .dataframe thead th {\n",
              "        text-align: right;\n",
              "    }\n",
              "</style>\n",
              "<table border=\"1\" class=\"dataframe\">\n",
              "  <thead>\n",
              "    <tr style=\"text-align: right;\">\n",
              "      <th></th>\n",
              "      <th>Algoritimo</th>\n",
              "      <th>Vertices</th>\n",
              "      <th>Clique Esperado</th>\n",
              "      <th>Clique Calculado</th>\n",
              "      <th>Tamanho Esperado</th>\n",
              "      <th>Tamanho Calculado</th>\n",
              "      <th>Time (s)</th>\n",
              "      <th>Mesmo Tamanho ?</th>\n",
              "    </tr>\n",
              "  </thead>\n",
              "  <tbody>\n",
              "    <tr>\n",
              "      <th>0</th>\n",
              "      <td>busca-exaustiva-local</td>\n",
              "      <td>5</td>\n",
              "      <td>[5, 2, 1, 3]</td>\n",
              "      <td>[ 5,  4,  2,  1]</td>\n",
              "      <td>4</td>\n",
              "      <td>4</td>\n",
              "      <td>0.003113</td>\n",
              "      <td>Sim</td>\n",
              "    </tr>\n",
              "    <tr>\n",
              "      <th>1</th>\n",
              "      <td>busca-exaustiva-local</td>\n",
              "      <td>25</td>\n",
              "      <td>[14, 17, 7, 8, 4, 15, 22, 10, 16]</td>\n",
              "      <td>[ 25,  21,  19,  17,  14,  13,  11,  7]</td>\n",
              "      <td>9</td>\n",
              "      <td>8</td>\n",
              "      <td>0.003186</td>\n",
              "      <td>Não</td>\n",
              "    </tr>\n",
              "    <tr>\n",
              "      <th>2</th>\n",
              "      <td>busca-exaustiva-local</td>\n",
              "      <td>50</td>\n",
              "      <td>[27, 49, 44, 12, 41, 33, 25, 36, 5, 39, 28]</td>\n",
              "      <td>[ 50,  49,  48,  46,  41,  32,  30,  13]</td>\n",
              "      <td>11</td>\n",
              "      <td>8</td>\n",
              "      <td>0.003472</td>\n",
              "      <td>Não</td>\n",
              "    </tr>\n",
              "    <tr>\n",
              "      <th>3</th>\n",
              "      <td>busca-exaustiva-local</td>\n",
              "      <td>75</td>\n",
              "      <td>[38, 70, 28, 53, 44, 43, 22, 26, 59, 24, 75, 1...</td>\n",
              "      <td>[ 75,  74,  73,  70,  68,  67,  59,  44,  30, ...</td>\n",
              "      <td>15</td>\n",
              "      <td>12</td>\n",
              "      <td>0.003715</td>\n",
              "      <td>Não</td>\n",
              "    </tr>\n",
              "    <tr>\n",
              "      <th>4</th>\n",
              "      <td>busca-exaustiva-local</td>\n",
              "      <td>100</td>\n",
              "      <td>[70, 21, 38, 11, 60, 75, 78, 95, 100, 24, 99, ...</td>\n",
              "      <td>[ 100,  99,  97,  90,  84,  75,  62,  49,  21,...</td>\n",
              "      <td>13</td>\n",
              "      <td>10</td>\n",
              "      <td>0.003025</td>\n",
              "      <td>Não</td>\n",
              "    </tr>\n",
              "    <tr>\n",
              "      <th>5</th>\n",
              "      <td>busca-exaustiva-local</td>\n",
              "      <td>125</td>\n",
              "      <td>[52, 67, 24, 41, 110, 7, 125, 64, 121, 6, 123,...</td>\n",
              "      <td>[ 125,  124,  119,  115,  113,  111,  108,  90...</td>\n",
              "      <td>16</td>\n",
              "      <td>13</td>\n",
              "      <td>0.004803</td>\n",
              "      <td>Não</td>\n",
              "    </tr>\n",
              "    <tr>\n",
              "      <th>6</th>\n",
              "      <td>busca-exaustiva-local</td>\n",
              "      <td>150</td>\n",
              "      <td>[99, 61, 104, 11, 103, 145, 105, 123, 120, 39,...</td>\n",
              "      <td>[ 150,  149,  145,  144,  137,  135,  126,  10...</td>\n",
              "      <td>16</td>\n",
              "      <td>13</td>\n",
              "      <td>0.005872</td>\n",
              "      <td>Não</td>\n",
              "    </tr>\n",
              "  </tbody>\n",
              "</table>\n",
              "</div>\n",
              "    <div class=\"colab-df-buttons\">\n",
              "\n",
              "  <div class=\"colab-df-container\">\n",
              "    <button class=\"colab-df-convert\" onclick=\"convertToInteractive('df-afac3fd4-93ff-45ff-9e7c-4ce7992a082f')\"\n",
              "            title=\"Convert this dataframe to an interactive table.\"\n",
              "            style=\"display:none;\">\n",
              "\n",
              "  <svg xmlns=\"http://www.w3.org/2000/svg\" height=\"24px\" viewBox=\"0 -960 960 960\">\n",
              "    <path d=\"M120-120v-720h720v720H120Zm60-500h600v-160H180v160Zm220 220h160v-160H400v160Zm0 220h160v-160H400v160ZM180-400h160v-160H180v160Zm440 0h160v-160H620v160ZM180-180h160v-160H180v160Zm440 0h160v-160H620v160Z\"/>\n",
              "  </svg>\n",
              "    </button>\n",
              "\n",
              "  <style>\n",
              "    .colab-df-container {\n",
              "      display:flex;\n",
              "      gap: 12px;\n",
              "    }\n",
              "\n",
              "    .colab-df-convert {\n",
              "      background-color: #E8F0FE;\n",
              "      border: none;\n",
              "      border-radius: 50%;\n",
              "      cursor: pointer;\n",
              "      display: none;\n",
              "      fill: #1967D2;\n",
              "      height: 32px;\n",
              "      padding: 0 0 0 0;\n",
              "      width: 32px;\n",
              "    }\n",
              "\n",
              "    .colab-df-convert:hover {\n",
              "      background-color: #E2EBFA;\n",
              "      box-shadow: 0px 1px 2px rgba(60, 64, 67, 0.3), 0px 1px 3px 1px rgba(60, 64, 67, 0.15);\n",
              "      fill: #174EA6;\n",
              "    }\n",
              "\n",
              "    .colab-df-buttons div {\n",
              "      margin-bottom: 4px;\n",
              "    }\n",
              "\n",
              "    [theme=dark] .colab-df-convert {\n",
              "      background-color: #3B4455;\n",
              "      fill: #D2E3FC;\n",
              "    }\n",
              "\n",
              "    [theme=dark] .colab-df-convert:hover {\n",
              "      background-color: #434B5C;\n",
              "      box-shadow: 0px 1px 3px 1px rgba(0, 0, 0, 0.15);\n",
              "      filter: drop-shadow(0px 1px 2px rgba(0, 0, 0, 0.3));\n",
              "      fill: #FFFFFF;\n",
              "    }\n",
              "  </style>\n",
              "\n",
              "    <script>\n",
              "      const buttonEl =\n",
              "        document.querySelector('#df-afac3fd4-93ff-45ff-9e7c-4ce7992a082f button.colab-df-convert');\n",
              "      buttonEl.style.display =\n",
              "        google.colab.kernel.accessAllowed ? 'block' : 'none';\n",
              "\n",
              "      async function convertToInteractive(key) {\n",
              "        const element = document.querySelector('#df-afac3fd4-93ff-45ff-9e7c-4ce7992a082f');\n",
              "        const dataTable =\n",
              "          await google.colab.kernel.invokeFunction('convertToInteractive',\n",
              "                                                    [key], {});\n",
              "        if (!dataTable) return;\n",
              "\n",
              "        const docLinkHtml = 'Like what you see? Visit the ' +\n",
              "          '<a target=\"_blank\" href=https://colab.research.google.com/notebooks/data_table.ipynb>data table notebook</a>'\n",
              "          + ' to learn more about interactive tables.';\n",
              "        element.innerHTML = '';\n",
              "        dataTable['output_type'] = 'display_data';\n",
              "        await google.colab.output.renderOutput(dataTable, element);\n",
              "        const docLink = document.createElement('div');\n",
              "        docLink.innerHTML = docLinkHtml;\n",
              "        element.appendChild(docLink);\n",
              "      }\n",
              "    </script>\n",
              "  </div>\n",
              "\n",
              "\n",
              "<div id=\"df-d63c2ef6-a80a-422f-a0c7-cdf2d75da865\">\n",
              "  <button class=\"colab-df-quickchart\" onclick=\"quickchart('df-d63c2ef6-a80a-422f-a0c7-cdf2d75da865')\"\n",
              "            title=\"Suggest charts\"\n",
              "            style=\"display:none;\">\n",
              "\n",
              "<svg xmlns=\"http://www.w3.org/2000/svg\" height=\"24px\"viewBox=\"0 0 24 24\"\n",
              "     width=\"24px\">\n",
              "    <g>\n",
              "        <path d=\"M19 3H5c-1.1 0-2 .9-2 2v14c0 1.1.9 2 2 2h14c1.1 0 2-.9 2-2V5c0-1.1-.9-2-2-2zM9 17H7v-7h2v7zm4 0h-2V7h2v10zm4 0h-2v-4h2v4z\"/>\n",
              "    </g>\n",
              "</svg>\n",
              "  </button>\n",
              "\n",
              "<style>\n",
              "  .colab-df-quickchart {\n",
              "      --bg-color: #E8F0FE;\n",
              "      --fill-color: #1967D2;\n",
              "      --hover-bg-color: #E2EBFA;\n",
              "      --hover-fill-color: #174EA6;\n",
              "      --disabled-fill-color: #AAA;\n",
              "      --disabled-bg-color: #DDD;\n",
              "  }\n",
              "\n",
              "  [theme=dark] .colab-df-quickchart {\n",
              "      --bg-color: #3B4455;\n",
              "      --fill-color: #D2E3FC;\n",
              "      --hover-bg-color: #434B5C;\n",
              "      --hover-fill-color: #FFFFFF;\n",
              "      --disabled-bg-color: #3B4455;\n",
              "      --disabled-fill-color: #666;\n",
              "  }\n",
              "\n",
              "  .colab-df-quickchart {\n",
              "    background-color: var(--bg-color);\n",
              "    border: none;\n",
              "    border-radius: 50%;\n",
              "    cursor: pointer;\n",
              "    display: none;\n",
              "    fill: var(--fill-color);\n",
              "    height: 32px;\n",
              "    padding: 0;\n",
              "    width: 32px;\n",
              "  }\n",
              "\n",
              "  .colab-df-quickchart:hover {\n",
              "    background-color: var(--hover-bg-color);\n",
              "    box-shadow: 0 1px 2px rgba(60, 64, 67, 0.3), 0 1px 3px 1px rgba(60, 64, 67, 0.15);\n",
              "    fill: var(--button-hover-fill-color);\n",
              "  }\n",
              "\n",
              "  .colab-df-quickchart-complete:disabled,\n",
              "  .colab-df-quickchart-complete:disabled:hover {\n",
              "    background-color: var(--disabled-bg-color);\n",
              "    fill: var(--disabled-fill-color);\n",
              "    box-shadow: none;\n",
              "  }\n",
              "\n",
              "  .colab-df-spinner {\n",
              "    border: 2px solid var(--fill-color);\n",
              "    border-color: transparent;\n",
              "    border-bottom-color: var(--fill-color);\n",
              "    animation:\n",
              "      spin 1s steps(1) infinite;\n",
              "  }\n",
              "\n",
              "  @keyframes spin {\n",
              "    0% {\n",
              "      border-color: transparent;\n",
              "      border-bottom-color: var(--fill-color);\n",
              "      border-left-color: var(--fill-color);\n",
              "    }\n",
              "    20% {\n",
              "      border-color: transparent;\n",
              "      border-left-color: var(--fill-color);\n",
              "      border-top-color: var(--fill-color);\n",
              "    }\n",
              "    30% {\n",
              "      border-color: transparent;\n",
              "      border-left-color: var(--fill-color);\n",
              "      border-top-color: var(--fill-color);\n",
              "      border-right-color: var(--fill-color);\n",
              "    }\n",
              "    40% {\n",
              "      border-color: transparent;\n",
              "      border-right-color: var(--fill-color);\n",
              "      border-top-color: var(--fill-color);\n",
              "    }\n",
              "    60% {\n",
              "      border-color: transparent;\n",
              "      border-right-color: var(--fill-color);\n",
              "    }\n",
              "    80% {\n",
              "      border-color: transparent;\n",
              "      border-right-color: var(--fill-color);\n",
              "      border-bottom-color: var(--fill-color);\n",
              "    }\n",
              "    90% {\n",
              "      border-color: transparent;\n",
              "      border-bottom-color: var(--fill-color);\n",
              "    }\n",
              "  }\n",
              "</style>\n",
              "\n",
              "  <script>\n",
              "    async function quickchart(key) {\n",
              "      const quickchartButtonEl =\n",
              "        document.querySelector('#' + key + ' button');\n",
              "      quickchartButtonEl.disabled = true;  // To prevent multiple clicks.\n",
              "      quickchartButtonEl.classList.add('colab-df-spinner');\n",
              "      try {\n",
              "        const charts = await google.colab.kernel.invokeFunction(\n",
              "            'suggestCharts', [key], {});\n",
              "      } catch (error) {\n",
              "        console.error('Error during call to suggestCharts:', error);\n",
              "      }\n",
              "      quickchartButtonEl.classList.remove('colab-df-spinner');\n",
              "      quickchartButtonEl.classList.add('colab-df-quickchart-complete');\n",
              "    }\n",
              "    (() => {\n",
              "      let quickchartButtonEl =\n",
              "        document.querySelector('#df-d63c2ef6-a80a-422f-a0c7-cdf2d75da865 button');\n",
              "      quickchartButtonEl.style.display =\n",
              "        google.colab.kernel.accessAllowed ? 'block' : 'none';\n",
              "    })();\n",
              "  </script>\n",
              "</div>\n",
              "    </div>\n",
              "  </div>\n"
            ]
          },
          "metadata": {},
          "execution_count": 21
        }
      ]
    },
    {
      "cell_type": "code",
      "source": [
        "#   --------------------------------------------\n",
        "#   -------- Busca Exaustiva Heuristica --------\n",
        "#   --------------------------------------------\n",
        "from src.python.utils.gera_estatisticas import gera_estatisticas\n",
        "\n",
        "arquivo_csv = 'data/stats_busca-exaustiva-heuristic.csv'\n",
        "algoritimo = 'busca-exaustiva-heuristic'\n",
        "lista_commandos = dic_comandos['1-busca-exaustiva-heuristica']\n",
        "\n",
        "df_exaustiva_heuristica = gera_estatisticas(algoritimo, lista_de_vertices, lista_commandos, arquivo_csv, debug = False)\n",
        "df_exaustiva_heuristica"
      ],
      "metadata": {
        "colab": {
          "base_uri": "https://localhost:8080/",
          "height": 269
        },
        "id": "fbVWT3Mx7yh1",
        "outputId": "2ea19328-c9b5-4366-97bc-7c47823dccf6"
      },
      "execution_count": 22,
      "outputs": [
        {
          "output_type": "execute_result",
          "data": {
            "text/plain": [
              "                  Algoritimo  Vertices  \\\n",
              "0  busca-exaustiva-heuristic         5   \n",
              "1  busca-exaustiva-heuristic        25   \n",
              "2  busca-exaustiva-heuristic        50   \n",
              "3  busca-exaustiva-heuristic        75   \n",
              "4  busca-exaustiva-heuristic       100   \n",
              "5  busca-exaustiva-heuristic       125   \n",
              "6  busca-exaustiva-heuristic       150   \n",
              "\n",
              "                                     Clique Esperado  \\\n",
              "0                                       [5, 2, 1, 3]   \n",
              "1                  [14, 17, 7, 8, 4, 15, 22, 10, 16]   \n",
              "2        [27, 49, 44, 12, 41, 33, 25, 36, 5, 39, 28]   \n",
              "3  [38, 70, 28, 53, 44, 43, 22, 26, 59, 24, 75, 1...   \n",
              "4  [70, 21, 38, 11, 60, 75, 78, 95, 100, 24, 99, ...   \n",
              "5  [52, 67, 24, 41, 110, 7, 125, 64, 121, 6, 123,...   \n",
              "6  [99, 61, 104, 11, 103, 145, 105, 123, 120, 39,...   \n",
              "\n",
              "                                    Clique Calculado  Tamanho Esperado  \\\n",
              "0                                   [ 5,  4,  1,  2]                 4   \n",
              "1              [ 25,  4,  7,  8,  14,  17,  13,  15]                 9   \n",
              "2            [ 10,  14,  15,  23,  38,  45,  17,  2]                11   \n",
              "3  [ 50,  55,  54,  53,  63,  7,  14,  36,  51,  ...                15   \n",
              "4  [ 66,  10,  17,  60,  100,  92,  96,  25,  8, ...                13   \n",
              "5  [ 50,  31,  4,  104,  7,  43,  116,  24,  83, ...                16   \n",
              "6  [ 48,  33,  56,  105,  95,  72,  8,  10,  76, ...                16   \n",
              "\n",
              "   Tamanho Calculado  Time (s) Mesmo Tamanho ?  \n",
              "0                  4  0.004732             Sim  \n",
              "1                  8  0.003433             Não  \n",
              "2                  8  0.003511             Não  \n",
              "3                 11  0.004270             Não  \n",
              "4                 12  0.003678             Não  \n",
              "5                 12  0.004421             Não  \n",
              "6                 11  0.006389             Não  "
            ],
            "text/html": [
              "\n",
              "  <div id=\"df-0dc6b00a-415d-436c-9dbe-23a628a39bb9\" class=\"colab-df-container\">\n",
              "    <div>\n",
              "<style scoped>\n",
              "    .dataframe tbody tr th:only-of-type {\n",
              "        vertical-align: middle;\n",
              "    }\n",
              "\n",
              "    .dataframe tbody tr th {\n",
              "        vertical-align: top;\n",
              "    }\n",
              "\n",
              "    .dataframe thead th {\n",
              "        text-align: right;\n",
              "    }\n",
              "</style>\n",
              "<table border=\"1\" class=\"dataframe\">\n",
              "  <thead>\n",
              "    <tr style=\"text-align: right;\">\n",
              "      <th></th>\n",
              "      <th>Algoritimo</th>\n",
              "      <th>Vertices</th>\n",
              "      <th>Clique Esperado</th>\n",
              "      <th>Clique Calculado</th>\n",
              "      <th>Tamanho Esperado</th>\n",
              "      <th>Tamanho Calculado</th>\n",
              "      <th>Time (s)</th>\n",
              "      <th>Mesmo Tamanho ?</th>\n",
              "    </tr>\n",
              "  </thead>\n",
              "  <tbody>\n",
              "    <tr>\n",
              "      <th>0</th>\n",
              "      <td>busca-exaustiva-heuristic</td>\n",
              "      <td>5</td>\n",
              "      <td>[5, 2, 1, 3]</td>\n",
              "      <td>[ 5,  4,  1,  2]</td>\n",
              "      <td>4</td>\n",
              "      <td>4</td>\n",
              "      <td>0.004732</td>\n",
              "      <td>Sim</td>\n",
              "    </tr>\n",
              "    <tr>\n",
              "      <th>1</th>\n",
              "      <td>busca-exaustiva-heuristic</td>\n",
              "      <td>25</td>\n",
              "      <td>[14, 17, 7, 8, 4, 15, 22, 10, 16]</td>\n",
              "      <td>[ 25,  4,  7,  8,  14,  17,  13,  15]</td>\n",
              "      <td>9</td>\n",
              "      <td>8</td>\n",
              "      <td>0.003433</td>\n",
              "      <td>Não</td>\n",
              "    </tr>\n",
              "    <tr>\n",
              "      <th>2</th>\n",
              "      <td>busca-exaustiva-heuristic</td>\n",
              "      <td>50</td>\n",
              "      <td>[27, 49, 44, 12, 41, 33, 25, 36, 5, 39, 28]</td>\n",
              "      <td>[ 10,  14,  15,  23,  38,  45,  17,  2]</td>\n",
              "      <td>11</td>\n",
              "      <td>8</td>\n",
              "      <td>0.003511</td>\n",
              "      <td>Não</td>\n",
              "    </tr>\n",
              "    <tr>\n",
              "      <th>3</th>\n",
              "      <td>busca-exaustiva-heuristic</td>\n",
              "      <td>75</td>\n",
              "      <td>[38, 70, 28, 53, 44, 43, 22, 26, 59, 24, 75, 1...</td>\n",
              "      <td>[ 50,  55,  54,  53,  63,  7,  14,  36,  51,  ...</td>\n",
              "      <td>15</td>\n",
              "      <td>11</td>\n",
              "      <td>0.004270</td>\n",
              "      <td>Não</td>\n",
              "    </tr>\n",
              "    <tr>\n",
              "      <th>4</th>\n",
              "      <td>busca-exaustiva-heuristic</td>\n",
              "      <td>100</td>\n",
              "      <td>[70, 21, 38, 11, 60, 75, 78, 95, 100, 24, 99, ...</td>\n",
              "      <td>[ 66,  10,  17,  60,  100,  92,  96,  25,  8, ...</td>\n",
              "      <td>13</td>\n",
              "      <td>12</td>\n",
              "      <td>0.003678</td>\n",
              "      <td>Não</td>\n",
              "    </tr>\n",
              "    <tr>\n",
              "      <th>5</th>\n",
              "      <td>busca-exaustiva-heuristic</td>\n",
              "      <td>125</td>\n",
              "      <td>[52, 67, 24, 41, 110, 7, 125, 64, 121, 6, 123,...</td>\n",
              "      <td>[ 50,  31,  4,  104,  7,  43,  116,  24,  83, ...</td>\n",
              "      <td>16</td>\n",
              "      <td>12</td>\n",
              "      <td>0.004421</td>\n",
              "      <td>Não</td>\n",
              "    </tr>\n",
              "    <tr>\n",
              "      <th>6</th>\n",
              "      <td>busca-exaustiva-heuristic</td>\n",
              "      <td>150</td>\n",
              "      <td>[99, 61, 104, 11, 103, 145, 105, 123, 120, 39,...</td>\n",
              "      <td>[ 48,  33,  56,  105,  95,  72,  8,  10,  76, ...</td>\n",
              "      <td>16</td>\n",
              "      <td>11</td>\n",
              "      <td>0.006389</td>\n",
              "      <td>Não</td>\n",
              "    </tr>\n",
              "  </tbody>\n",
              "</table>\n",
              "</div>\n",
              "    <div class=\"colab-df-buttons\">\n",
              "\n",
              "  <div class=\"colab-df-container\">\n",
              "    <button class=\"colab-df-convert\" onclick=\"convertToInteractive('df-0dc6b00a-415d-436c-9dbe-23a628a39bb9')\"\n",
              "            title=\"Convert this dataframe to an interactive table.\"\n",
              "            style=\"display:none;\">\n",
              "\n",
              "  <svg xmlns=\"http://www.w3.org/2000/svg\" height=\"24px\" viewBox=\"0 -960 960 960\">\n",
              "    <path d=\"M120-120v-720h720v720H120Zm60-500h600v-160H180v160Zm220 220h160v-160H400v160Zm0 220h160v-160H400v160ZM180-400h160v-160H180v160Zm440 0h160v-160H620v160ZM180-180h160v-160H180v160Zm440 0h160v-160H620v160Z\"/>\n",
              "  </svg>\n",
              "    </button>\n",
              "\n",
              "  <style>\n",
              "    .colab-df-container {\n",
              "      display:flex;\n",
              "      gap: 12px;\n",
              "    }\n",
              "\n",
              "    .colab-df-convert {\n",
              "      background-color: #E8F0FE;\n",
              "      border: none;\n",
              "      border-radius: 50%;\n",
              "      cursor: pointer;\n",
              "      display: none;\n",
              "      fill: #1967D2;\n",
              "      height: 32px;\n",
              "      padding: 0 0 0 0;\n",
              "      width: 32px;\n",
              "    }\n",
              "\n",
              "    .colab-df-convert:hover {\n",
              "      background-color: #E2EBFA;\n",
              "      box-shadow: 0px 1px 2px rgba(60, 64, 67, 0.3), 0px 1px 3px 1px rgba(60, 64, 67, 0.15);\n",
              "      fill: #174EA6;\n",
              "    }\n",
              "\n",
              "    .colab-df-buttons div {\n",
              "      margin-bottom: 4px;\n",
              "    }\n",
              "\n",
              "    [theme=dark] .colab-df-convert {\n",
              "      background-color: #3B4455;\n",
              "      fill: #D2E3FC;\n",
              "    }\n",
              "\n",
              "    [theme=dark] .colab-df-convert:hover {\n",
              "      background-color: #434B5C;\n",
              "      box-shadow: 0px 1px 3px 1px rgba(0, 0, 0, 0.15);\n",
              "      filter: drop-shadow(0px 1px 2px rgba(0, 0, 0, 0.3));\n",
              "      fill: #FFFFFF;\n",
              "    }\n",
              "  </style>\n",
              "\n",
              "    <script>\n",
              "      const buttonEl =\n",
              "        document.querySelector('#df-0dc6b00a-415d-436c-9dbe-23a628a39bb9 button.colab-df-convert');\n",
              "      buttonEl.style.display =\n",
              "        google.colab.kernel.accessAllowed ? 'block' : 'none';\n",
              "\n",
              "      async function convertToInteractive(key) {\n",
              "        const element = document.querySelector('#df-0dc6b00a-415d-436c-9dbe-23a628a39bb9');\n",
              "        const dataTable =\n",
              "          await google.colab.kernel.invokeFunction('convertToInteractive',\n",
              "                                                    [key], {});\n",
              "        if (!dataTable) return;\n",
              "\n",
              "        const docLinkHtml = 'Like what you see? Visit the ' +\n",
              "          '<a target=\"_blank\" href=https://colab.research.google.com/notebooks/data_table.ipynb>data table notebook</a>'\n",
              "          + ' to learn more about interactive tables.';\n",
              "        element.innerHTML = '';\n",
              "        dataTable['output_type'] = 'display_data';\n",
              "        await google.colab.output.renderOutput(dataTable, element);\n",
              "        const docLink = document.createElement('div');\n",
              "        docLink.innerHTML = docLinkHtml;\n",
              "        element.appendChild(docLink);\n",
              "      }\n",
              "    </script>\n",
              "  </div>\n",
              "\n",
              "\n",
              "<div id=\"df-3d21a228-ff98-4f7e-9222-1bde17eed1c6\">\n",
              "  <button class=\"colab-df-quickchart\" onclick=\"quickchart('df-3d21a228-ff98-4f7e-9222-1bde17eed1c6')\"\n",
              "            title=\"Suggest charts\"\n",
              "            style=\"display:none;\">\n",
              "\n",
              "<svg xmlns=\"http://www.w3.org/2000/svg\" height=\"24px\"viewBox=\"0 0 24 24\"\n",
              "     width=\"24px\">\n",
              "    <g>\n",
              "        <path d=\"M19 3H5c-1.1 0-2 .9-2 2v14c0 1.1.9 2 2 2h14c1.1 0 2-.9 2-2V5c0-1.1-.9-2-2-2zM9 17H7v-7h2v7zm4 0h-2V7h2v10zm4 0h-2v-4h2v4z\"/>\n",
              "    </g>\n",
              "</svg>\n",
              "  </button>\n",
              "\n",
              "<style>\n",
              "  .colab-df-quickchart {\n",
              "      --bg-color: #E8F0FE;\n",
              "      --fill-color: #1967D2;\n",
              "      --hover-bg-color: #E2EBFA;\n",
              "      --hover-fill-color: #174EA6;\n",
              "      --disabled-fill-color: #AAA;\n",
              "      --disabled-bg-color: #DDD;\n",
              "  }\n",
              "\n",
              "  [theme=dark] .colab-df-quickchart {\n",
              "      --bg-color: #3B4455;\n",
              "      --fill-color: #D2E3FC;\n",
              "      --hover-bg-color: #434B5C;\n",
              "      --hover-fill-color: #FFFFFF;\n",
              "      --disabled-bg-color: #3B4455;\n",
              "      --disabled-fill-color: #666;\n",
              "  }\n",
              "\n",
              "  .colab-df-quickchart {\n",
              "    background-color: var(--bg-color);\n",
              "    border: none;\n",
              "    border-radius: 50%;\n",
              "    cursor: pointer;\n",
              "    display: none;\n",
              "    fill: var(--fill-color);\n",
              "    height: 32px;\n",
              "    padding: 0;\n",
              "    width: 32px;\n",
              "  }\n",
              "\n",
              "  .colab-df-quickchart:hover {\n",
              "    background-color: var(--hover-bg-color);\n",
              "    box-shadow: 0 1px 2px rgba(60, 64, 67, 0.3), 0 1px 3px 1px rgba(60, 64, 67, 0.15);\n",
              "    fill: var(--button-hover-fill-color);\n",
              "  }\n",
              "\n",
              "  .colab-df-quickchart-complete:disabled,\n",
              "  .colab-df-quickchart-complete:disabled:hover {\n",
              "    background-color: var(--disabled-bg-color);\n",
              "    fill: var(--disabled-fill-color);\n",
              "    box-shadow: none;\n",
              "  }\n",
              "\n",
              "  .colab-df-spinner {\n",
              "    border: 2px solid var(--fill-color);\n",
              "    border-color: transparent;\n",
              "    border-bottom-color: var(--fill-color);\n",
              "    animation:\n",
              "      spin 1s steps(1) infinite;\n",
              "  }\n",
              "\n",
              "  @keyframes spin {\n",
              "    0% {\n",
              "      border-color: transparent;\n",
              "      border-bottom-color: var(--fill-color);\n",
              "      border-left-color: var(--fill-color);\n",
              "    }\n",
              "    20% {\n",
              "      border-color: transparent;\n",
              "      border-left-color: var(--fill-color);\n",
              "      border-top-color: var(--fill-color);\n",
              "    }\n",
              "    30% {\n",
              "      border-color: transparent;\n",
              "      border-left-color: var(--fill-color);\n",
              "      border-top-color: var(--fill-color);\n",
              "      border-right-color: var(--fill-color);\n",
              "    }\n",
              "    40% {\n",
              "      border-color: transparent;\n",
              "      border-right-color: var(--fill-color);\n",
              "      border-top-color: var(--fill-color);\n",
              "    }\n",
              "    60% {\n",
              "      border-color: transparent;\n",
              "      border-right-color: var(--fill-color);\n",
              "    }\n",
              "    80% {\n",
              "      border-color: transparent;\n",
              "      border-right-color: var(--fill-color);\n",
              "      border-bottom-color: var(--fill-color);\n",
              "    }\n",
              "    90% {\n",
              "      border-color: transparent;\n",
              "      border-bottom-color: var(--fill-color);\n",
              "    }\n",
              "  }\n",
              "</style>\n",
              "\n",
              "  <script>\n",
              "    async function quickchart(key) {\n",
              "      const quickchartButtonEl =\n",
              "        document.querySelector('#' + key + ' button');\n",
              "      quickchartButtonEl.disabled = true;  // To prevent multiple clicks.\n",
              "      quickchartButtonEl.classList.add('colab-df-spinner');\n",
              "      try {\n",
              "        const charts = await google.colab.kernel.invokeFunction(\n",
              "            'suggestCharts', [key], {});\n",
              "      } catch (error) {\n",
              "        console.error('Error during call to suggestCharts:', error);\n",
              "      }\n",
              "      quickchartButtonEl.classList.remove('colab-df-spinner');\n",
              "      quickchartButtonEl.classList.add('colab-df-quickchart-complete');\n",
              "    }\n",
              "    (() => {\n",
              "      let quickchartButtonEl =\n",
              "        document.querySelector('#df-3d21a228-ff98-4f7e-9222-1bde17eed1c6 button');\n",
              "      quickchartButtonEl.style.display =\n",
              "        google.colab.kernel.accessAllowed ? 'block' : 'none';\n",
              "    })();\n",
              "  </script>\n",
              "</div>\n",
              "    </div>\n",
              "  </div>\n"
            ]
          },
          "metadata": {},
          "execution_count": 22
        }
      ]
    },
    {
      "cell_type": "code",
      "source": [
        "#   --------------------------------------------\n",
        "#   ------ Grafico de Comparação Temporal ------\n",
        "#   --------------------------------------------\n",
        "\n",
        "from src.python.utils.desenha_grafico import desenha_grafico\n",
        "\n",
        "filename = 'img/graphs/compare-local-heuristic'\n",
        "title = 'Busca local x Heuristica'\n",
        "x_label = 'N° Vertices'\n",
        "y_label = 'Tempo (s)'\n",
        "\n",
        "list_x = lista_de_vertices\n",
        "list_y = [df_exaustiva_local['Time (s)'] , df_exaustiva_heuristica['Time (s)']]\n",
        "\n",
        "list_labels = ['busca-local', 'busca-heuristica']\n",
        "\n",
        "desenha_grafico(filename, title, x_label, y_label, list_x,list_y, list_labels)"
      ],
      "metadata": {
        "colab": {
          "base_uri": "https://localhost:8080/",
          "height": 489
        },
        "id": "Xje8ob8Z-Unm",
        "outputId": "ba316e46-9772-473a-bd48-97f6ba8d17c2"
      },
      "execution_count": 23,
      "outputs": [
        {
          "output_type": "display_data",
          "data": {
            "text/plain": [
              "<Figure size 640x480 with 1 Axes>"
            ],
            "image/png": "[encoded data removed]"
          },
          "metadata": {}
        },
        {
          "output_type": "display_data",
          "data": {
            "text/plain": [
              "<Figure size 640x480 with 0 Axes>"
            ]
          },
          "metadata": {}
        }
      ]
    },
    {
      "cell_type": "code",
      "source": [
        "#   --------------------------------------------\n",
        "#   ----------- Grafico de Speed Up ------------\n",
        "#   --------------------------------------------\n",
        "\n",
        "from src.python.utils.desenha_grafico import desenha_grafico\n",
        "\n"
      ],
      "metadata": {
        "id": "3ni5caTt-hpf"
      },
      "execution_count": 24,
      "outputs": []
    },
    {
      "cell_type": "markdown",
      "source": [
        "#### 8.2 **Comparando Busca Exaustiva Global e Busca Exaustiva com OMP**"
      ],
      "metadata": {
        "id": "hnaSVNkM2wRG"
      }
    },
    {
      "cell_type": "code",
      "source": [
        "#   ----------------------------------------\n",
        "#   -------- Busca Exaustiva Global --------\n",
        "#   ----------------------------------------\n",
        "from src.python.utils.gera_estatisticas import gera_estatisticas\n",
        "\n",
        "arquivo_csv = 'data/stats_busca-exaustiva-global.csv'\n",
        "algoritimo = 'busca-exaustiva-global'\n",
        "lista_commandos = dic_comandos['2-busca-exaustiva-global']\n",
        "\n",
        "df_exaustiva_global = gera_estatisticas(algoritimo, lista_de_vertices, lista_commandos, arquivo_csv, debug = False)\n",
        "df_exaustiva_global"
      ],
      "metadata": {
        "id": "-C-JaN5W9fE8"
      },
      "execution_count": 25,
      "outputs": []
    },
    {
      "cell_type": "code",
      "source": [
        "#   ----------------------------------------\n",
        "#   ---------- Busca Exaustiva OMP ---------\n",
        "#   ----------------------------------------\n",
        "from src.python.utils.gera_estatisticas import gera_estatisticas\n",
        "\n",
        "arquivo_csv = 'data/stats_busca-exaustiva-omp.csv'\n",
        "algoritimo = 'busca-exaustiva-omp'\n",
        "lista_commandos = dic_comandos['3-busca-exaustiva-omp']\n",
        "\n",
        "df_exaustiva_omp = gera_estatisticas(algoritimo, lista_de_vertices, lista_commandos, arquivo_csv, debug = False)\n",
        "df_exaustiva_omp"
      ],
      "metadata": {
        "id": "LaZvE9129fOl"
      },
      "execution_count": 26,
      "outputs": []
    },
    {
      "cell_type": "code",
      "source": [
        "#   --------------------------------------------\n",
        "#   ------ Grafico de Comparação Temporal ------\n",
        "#   --------------------------------------------"
      ],
      "metadata": {
        "id": "NvutQCxu-wX-"
      },
      "execution_count": 27,
      "outputs": []
    },
    {
      "cell_type": "code",
      "source": [
        "#   --------------------------------------------\n",
        "#   ----------- Grafico de Speed Up ------------\n",
        "#   --------------------------------------------"
      ],
      "metadata": {
        "id": "SuWSr2ji-wat"
      },
      "execution_count": 28,
      "outputs": []
    },
    {
      "cell_type": "markdown",
      "source": [
        "#### 8.3 **Desempenho mpi (Valores obtidos experimentalmente)**"
      ],
      "metadata": {
        "id": "giEMbOk9-2zG"
      }
    },
    {
      "cell_type": "markdown",
      "source": [
        "#### 8.4 **Comparando todos os algorítimos**"
      ],
      "metadata": {
        "id": "42gbKvfu2-gu"
      }
    },
    {
      "cell_type": "code",
      "source": [
        "#   --------------------------------------------\n",
        "#   ------ Grafico de Comparação Temporal ------\n",
        "#   --------------------------------------------"
      ],
      "metadata": {
        "id": "VOp1flap-0aT"
      },
      "execution_count": 29,
      "outputs": []
    },
    {
      "cell_type": "code",
      "source": [
        "#   --------------------------------------------\n",
        "#   ----------- Grafico de Speed Up ------------\n",
        "#   --------------------------------------------"
      ],
      "metadata": {
        "id": "Olw59rBJ_G9f"
      },
      "execution_count": 30,
      "outputs": []
    }
  ]
}